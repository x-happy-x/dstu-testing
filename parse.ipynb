{
 "cells": [
  {
   "cell_type": "code",
   "execution_count": 1,
   "outputs": [],
   "source": [
    "from app.rpd.api import RpdApi, Params\n",
    "from app.rpd.RpdApp import CompetenceBoard\n",
    "import json"
   ],
   "metadata": {
    "collapsed": false,
    "ExecuteTime": {
     "end_time": "2023-10-26T17:34:36.965787400Z",
     "start_time": "2023-10-26T17:34:36.428625Z"
    }
   },
   "id": "dd61a3b6d4b41880"
  },
  {
   "cell_type": "code",
   "execution_count": 2,
   "outputs": [],
   "source": [
    "api = RpdApi(data={\n",
    "    Params.rup_row_id: 3019701,\n",
    "    Params.rp_id: 741082,\n",
    "})"
   ],
   "metadata": {
    "collapsed": false,
    "ExecuteTime": {
     "end_time": "2023-10-26T17:34:37.092006600Z",
     "start_time": "2023-10-26T17:34:36.966789700Z"
    }
   },
   "id": "6439f9d2c9a2f33f"
  },
  {
   "cell_type": "code",
   "execution_count": 3,
   "outputs": [
    {
     "name": "stdout",
     "output_type": "stream",
     "text": [
      "GET https://rpd.donstu.ru/Rp3/Load {'rupRowId': 3019701, 'rpId': 741082}\n"
     ]
    }
   ],
   "source": [
    "comps_result = api.get_competencies_of_disciplines()\n",
    "if comps_result.status_code == 200:\n",
    "    comps = json.loads(comps_result.text)['data']['items']"
   ],
   "metadata": {
    "collapsed": false,
    "ExecuteTime": {
     "end_time": "2023-10-26T17:34:37.158367700Z",
     "start_time": "2023-10-26T17:34:37.095007500Z"
    }
   },
   "id": "5524a903c904301a"
  },
  {
   "cell_type": "code",
   "execution_count": 4,
   "outputs": [],
   "source": [
    "cb = CompetenceBoard(None)\n",
    "for c in comps:\n",
    "    cb.add_item(c)"
   ],
   "metadata": {
    "collapsed": false,
    "ExecuteTime": {
     "end_time": "2023-10-26T17:34:37.158367700Z",
     "start_time": "2023-10-26T17:34:37.154321900Z"
    }
   },
   "id": "b52afec25a2fd760"
  },
  {
   "cell_type": "code",
   "execution_count": 5,
   "outputs": [],
   "source": [
    "cb.generate_table1('./table11.docx')\n",
    "cb.generate_table2('./table12.docx')"
   ],
   "metadata": {
    "collapsed": false,
    "ExecuteTime": {
     "end_time": "2023-10-26T17:34:37.790755900Z",
     "start_time": "2023-10-26T17:34:37.158367700Z"
    }
   },
   "id": "b6ea1c7820bc8c39"
  }
 ],
 "metadata": {
  "kernelspec": {
   "display_name": "Python 3",
   "language": "python",
   "name": "python3"
  },
  "language_info": {
   "codemirror_mode": {
    "name": "ipython",
    "version": 2
   },
   "file_extension": ".py",
   "mimetype": "text/x-python",
   "name": "python",
   "nbconvert_exporter": "python",
   "pygments_lexer": "ipython2",
   "version": "2.7.6"
  }
 },
 "nbformat": 4,
 "nbformat_minor": 5
}
