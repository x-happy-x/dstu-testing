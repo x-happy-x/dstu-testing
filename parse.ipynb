{
 "cells": [
  {
   "cell_type": "code",
   "execution_count": 2,
   "outputs": [],
   "source": [
    "from app.rpd.api import RpdApi, Params\n",
    "from app.rpd.RpdApp import CompetenceBoard\n",
    "import json"
   ],
   "metadata": {
    "collapsed": false,
    "ExecuteTime": {
     "end_time": "2023-10-27T13:23:57.463138Z",
     "start_time": "2023-10-27T13:23:56.340463200Z"
    }
   },
   "id": "dd61a3b6d4b41880"
  },
  {
   "cell_type": "code",
   "execution_count": 3,
   "outputs": [
    {
     "name": "stdout",
     "output_type": "stream",
     "text": [
      "GET https://rpd.donstu.ru/Rp3/Load {'rupRowId': '3019701', 'rpId': '741082'}\n"
     ]
    }
   ],
   "source": [
    "urls = [\"https://rpd.donstu.ru/Rp?rupRowId=3019701&rpId=741082\"]\n",
    "for url in urls:\n",
    "    url_params = {\n",
    "        p.split('=', 1)[0]: p.split('=', 1)[1]\n",
    "        for p in url.split('?', 1)[1].split('&')\n",
    "    }\n",
    "\n",
    "    api = RpdApi(data=url_params)\n",
    "    comps_result = api.get_competencies_of_disciplines()\n",
    "    \n",
    "    if comps_result.status_code == 200:\n",
    "        \n",
    "        comps = json.loads(comps_result.text)['data']['items']\n",
    "        cb = CompetenceBoard(None)\n",
    "        for c in comps:\n",
    "            cb.add_item(c)\n",
    "            \n",
    "        cb.generate_table1(f'./table{api.data[Params.rp_id]}_1.docx')\n",
    "        cb.generate_table2(f'./table{api.data[Params.rp_id]}_2.docx')\n",
    "        "
   ],
   "metadata": {
    "collapsed": false,
    "ExecuteTime": {
     "end_time": "2023-10-27T13:23:59.845926200Z",
     "start_time": "2023-10-27T13:23:58.436175600Z"
    }
   },
   "id": "6439f9d2c9a2f33f"
  },
  {
   "cell_type": "code",
   "execution_count": null,
   "outputs": [],
   "source": [],
   "metadata": {
    "collapsed": false
   },
   "id": "862a1b9eadcc9e13"
  }
 ],
 "metadata": {
  "kernelspec": {
   "display_name": "Python 3",
   "language": "python",
   "name": "python3"
  },
  "language_info": {
   "codemirror_mode": {
    "name": "ipython",
    "version": 2
   },
   "file_extension": ".py",
   "mimetype": "text/x-python",
   "name": "python",
   "nbconvert_exporter": "python",
   "pygments_lexer": "ipython2",
   "version": "2.7.6"
  }
 },
 "nbformat": 4,
 "nbformat_minor": 5
}
