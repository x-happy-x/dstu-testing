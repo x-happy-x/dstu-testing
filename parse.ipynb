{
 "cells": [
  {
   "cell_type": "markdown",
   "source": [
    "# Генерация таблиц по практикам"
   ],
   "metadata": {
    "collapsed": false
   },
   "id": "4cc57c0622f8ddd9"
  },
  {
   "cell_type": "code",
   "execution_count": 15,
   "outputs": [],
   "source": [
    "from app.rpd.api import RpdApi, Params\n",
    "from app.rpd.RpdApp import CompetenceBoard\n",
    "import json\n",
    "import pandas as pd"
   ],
   "metadata": {
    "collapsed": false,
    "ExecuteTime": {
     "end_time": "2023-10-30T13:05:37.133408900Z",
     "start_time": "2023-10-30T13:05:37.127403600Z"
    }
   },
   "id": "dd61a3b6d4b41880"
  },
  {
   "cell_type": "code",
   "execution_count": 16,
   "outputs": [],
   "source": [
    "filename = './Практики с ссылками.xlsx'\n",
    "sheet = 'Лист1'\n",
    "df = pd.read_excel(filename, sheet_name=sheet)"
   ],
   "metadata": {
    "collapsed": false,
    "ExecuteTime": {
     "end_time": "2023-10-30T13:05:38.346800600Z",
     "start_time": "2023-10-30T13:05:38.320156200Z"
    }
   },
   "id": "33679e4b70c14bda"
  },
  {
   "cell_type": "code",
   "execution_count": 21,
   "outputs": [
    {
     "name": "stdout",
     "output_type": "stream",
     "text": [
      "GET https://rpd.donstu.ru/Rp3/Load {'rupRowId': '2985847', 'rpId': '715413'}\n",
      "GET https://rpd.donstu.ru/Rp3/Load {'rupRowId': '2985817', 'rpId': '715388'}\n",
      "GET https://rpd.donstu.ru/Rp3/Load {'rupRowId': '3019703', 'rpId': '741084'}\n",
      "GET https://rpd.donstu.ru/Rp3/Load {'rupRowId': '3019708', 'rpId': '741096'}\n",
      "GET https://rpd.donstu.ru/Rp3/Load {'rupRowId': '3019417', 'rpId': '902485'}\n",
      "GET https://rpd.donstu.ru/Rp3/Load {'rupRowId': '3019437', 'rpId': '902486'}\n",
      "GET https://rpd.donstu.ru/Rp3/Load {'rupRowId': '3021859', 'rpId': '742614'}\n",
      "GET https://rpd.donstu.ru/Rp3/Load {'rupRowId': '3021864', 'rpId': '742620'}\n",
      "GET https://rpd.donstu.ru/Rp3/Load {'rupRowId': '3021951', 'rpId': '742727'}\n",
      "GET https://rpd.donstu.ru/Rp3/Load {'rupRowId': '3021957', 'rpId': '742738'}\n",
      "GET https://rpd.donstu.ru/Rp3/Load {'rupRowId': '3019701', 'rpId': '741082'}\n",
      "GET https://rpd.donstu.ru/Rp3/Load {'rupRowId': '3019436', 'rpId': '898752'}\n",
      "GET https://rpd.donstu.ru/Rp3/Load {'rupRowId': '3021857', 'rpId': '898754'}\n",
      "GET https://rpd.donstu.ru/Rp3/Load {'rupRowId': '3021949', 'rpId': '898768'}\n"
     ]
    }
   ],
   "source": [
    "for i in range(len(df)):\n",
    "    url = df['Ссылка'][i]\n",
    "    name = df['Сокр. название'][i]\n",
    "\n",
    "    if str(url).lower() == 'nan' or str(name).lower() == 'nan' or len(url.strip()) < 10 or len(name.strip()) == 0:\n",
    "        continue\n",
    "\n",
    "    url_params = {\n",
    "        p.split('=', 1)[0]: p.split('=', 1)[1]\n",
    "        for p in url.split('?', 1)[1].split('&')\n",
    "    }\n",
    "\n",
    "    api = RpdApi(data=url_params)\n",
    "    comps_result = api.get_competencies_of_disciplines()\n",
    "\n",
    "    if comps_result.status_code == 200:\n",
    "\n",
    "        comps = json.loads(comps_result.text)['data']['items']\n",
    "        cb = CompetenceBoard(None)\n",
    "        for c in comps:\n",
    "            cb.add_item(c)\n",
    "\n",
    "        cb.generate_table1(f'./{name}_Таблица1.docx')\n",
    "        cb.generate_table2(f'./{name}_Таблица2.docx')\n"
   ],
   "metadata": {
    "collapsed": false,
    "ExecuteTime": {
     "end_time": "2023-10-30T13:09:53.841563800Z",
     "start_time": "2023-10-30T13:09:39.792648Z"
    }
   },
   "id": "6439f9d2c9a2f33f"
  },
  {
   "cell_type": "markdown",
   "source": [
    "# Преобразование макета"
   ],
   "metadata": {
    "collapsed": false
   },
   "id": "3fe9977bc3351d42"
  },
  {
   "cell_type": "code",
   "execution_count": 1,
   "outputs": [],
   "source": [
    "from app.parser.doc import LayoutStruct, Layout\n",
    "\n",
    "questions_file = r\"Z:\\Downloads\\Telegram Desktop\\вопросы_Мат_метод_прин_реш_УК_1_Содержание_компетенции_20231012.txt\"\n",
    "\n",
    "template_file = \"./template/LayoutTest.docx\"\n",
    "struct_file = \"./template/struct.csv\"\n",
    "\n",
    "structure = LayoutStruct(struct_file)\n",
    "structure.gift2struct(filepath=questions_file)\n",
    "layout = structure.build(template_file, './dest/d.docx')"
   ],
   "metadata": {
    "collapsed": false,
    "ExecuteTime": {
     "end_time": "2023-10-30T20:06:11.681551100Z",
     "start_time": "2023-10-30T20:06:10.374790800Z"
    }
   },
   "id": "862a1b9eadcc9e13"
  },
  {
   "cell_type": "markdown",
   "source": [
    "# Формула в docx"
   ],
   "metadata": {
    "collapsed": false
   },
   "id": "d3f512745cae4407"
  },
  {
   "cell_type": "code",
   "execution_count": 45,
   "outputs": [],
   "source": [
    "text = r\"\"\"\n",
    "\n",
    "// question: 140091  name: Соответствие 10\n",
    "::Соответствие 10::[html]<p><span style\\=\"font-size\\: 14.8164px;\">Глобальный роевой алгоритм.&nbsp;</span>В формуле</p><p>\\\\( v_\\{ij\\}(t + 1) \\= v_\\{ij\\}(t) + c_\\{1\\}r_\\{1j\\}(t)[y_\\{ij\\}(t) — x_\\{ij\\}(t)] +c_\\{2\\}r_\\{2j\\}(t)[\\\\hat\\{y\\}_j(t) — x_\\{ij\\}(t)]  \\\\)<br></p>{\n",
    "\t=<span style\\=\"font-size\\: 14.8164px;\">\\\\(v_\\{ij\\}(t)\\\\)</span> -> Компонента скорости в момент времени t\n",
    "\t=<p dir\\=\"ltr\" style\\=\"text-align\\: left;\"><span style\\=\"font-size\\: 14.8164px;\">\\\\(x_\\{ij\\}(t)\\\\)</span><br></p> -> Координата позиции частицы\n",
    "\t=<p dir\\=\"ltr\" style\\=\"text-align\\: left;\">\\\\(c_1\\\\) и \\\\(c_2\\\\)</p><p></p> -> – положительные коэффициенты ускорения, регулирующие вклад когнитивной и социальной компонент\n",
    "\t=<p dir\\=\"ltr\" style\\=\"text-align\\: left;\">\\\\(r_\\{1j\\}(t), r_\\{2j\\}(t)\\\\)</p><p></p> -> – случайные числа из диапазона [0,1], которые вносят элемент случайности в процесс поиска\n",
    "\t=<p dir\\=\"ltr\" style\\=\"text-align\\: left;\">\\\\(y_\\{ij\\}(t)\\\\)</p> -> Персональная лучшая позиция по j-й координате i-ой частицы\n",
    "\t=<p dir\\=\"ltr\" style\\=\"text-align\\: left;\"></p><p><span style\\=\"font-size\\: 14.8164px;\">\\\\(\\\\hat\\{y\\}_\\{j\\}(t)\\\\)</span><br></p><br><p></p> -> Лучшая глобальная позиция роя.\n",
    "\t= -> Усреднённая позиция роя\n",
    "}\n",
    "\n",
    "// question: 144780  name: 35.\n",
    "::35.::[html]<p dir\\=\"ltr\" style\\=\"text-align\\: left;\">По критерию ___, оптимальной является та стратегия, для которой наибольшее значение принимает величина&nbsp;</p><p dir\\=\"ltr\" style\\=\"text-align\\: left;\">\\\\( \\\\lambda* \\\\underset\\{1 \\\\leq i \\\\leq n \\}\\{\\\\min\\}a_\\{ij\\} + (1 - \\\\lambda) \\\\underset\\{1 \\\\leq i \\\\leq n \\}\\{\\\\max \\}a_\\{ij\\} \\\\)<br></p><p dir\\=\"ltr\" style\\=\"text-align\\: left;\">где&nbsp;\\\\(  \\\\lambda \\\\in [0,1]  \\\\).</p><p dir\\=\"ltr\" style\\=\"text-align\\: left;\">При \\\\(\\\\lambda \\= 1\\\\) критерий ___ преобразуется в пессимистический критерий Вальда, а при \\\\(\\\\lambda \\= 0\\\\) - в критерий крайнего оптимизма, рекомендующий ту стратегию, для которой в наилучших условиях выигрыш максимален.</p>{\n",
    "\t=%100%Гурвица#\n",
    "}\n",
    "\n",
    "\"\"\"\n",
    "pattern = r'\\\\\\((.*?)\\\\\\)'"
   ],
   "metadata": {
    "collapsed": false,
    "ExecuteTime": {
     "end_time": "2023-10-31T22:49:55.353700700Z",
     "start_time": "2023-10-31T22:49:55.326439900Z"
    }
   },
   "id": "b076c23f4f33b591"
  },
  {
   "cell_type": "code",
   "execution_count": 46,
   "outputs": [
    {
     "name": "stdout",
     "output_type": "stream",
     "text": [
      "Найдена формула \"\\( v_{ij}(t + 1) \\= v_{ij}(t) + c_{1}r_{1j}(t)[y_{ij}(t) — x_{ij}(t)] +c_{2}r_{2j}(t)[\\hat{y}_j(t) — x_{ij}(t)]  \\)\" на позициях с 14764 по 14901\n",
      "Найдена формула \"\\(v_{ij}(t)\\)\" на позициях с 14952 по 14968\n",
      "Найдена формула \"\\(x_{ij}(t)\\)\" на позициях с 15101 по 15117\n",
      "Найдена формула \"\\(c_1\\)\" на позициях с 15208 по 15216\n",
      "Найдена формула \"\\(c_2\\)\" на позициях с 15220 по 15228\n",
      "Найдена формула \"\\(r_{1j}(t), r_{2j}(t)\\)\" на позициях с 15382 по 15411\n",
      "Найдена формула \"\\(y_{ij}(t)\\)\" на позициях с 15561 по 15577\n",
      "Найдена формула \"\\(\\hat{y}_{j}(t)\\)\" на позициях с 15734 по 15758\n",
      "Найдена формула \"\\( q_{1} \\= q_{2} \\= ... q_{n} \\= 1/n \\)\" на позициях с 24017 по 24064\n",
      "Найдена формула \"\\(  \\alpha \\= \\underset{1 \\leq i \\leq m }{\\max} \\left\\{ \\underset{1 \\leq i \\leq n }{\\max} a_{ij} \\right\\} \\)\" на позициях с 24534 по 24668\n",
      "Найдена формула \"\\(  \\rho \\= \\underset{1 \\leq i \\leq m }{\\max} \\left\\{ \\underset{1 \\leq i \\leq n }{\\min} r_{ij} \\right\\} \\)\" на позициях с 25096 по 25228\n",
      "Найдена формула \"\\( \\lambda* \\underset{1 \\leq i \\leq n }{\\min}a_{ij} + (1 - \\lambda) \\underset{1 \\leq i \\leq n }{\\max }a_{ij} \\)\" на позициях с 25582 по 25716\n",
      "Найдена формула \"\\(  \\lambda \\in [0,1]  \\)\" на позициях с 25776 по 25804\n",
      "Найдена формула \"\\(\\lambda \\= 1\\)\" на позициях с 25856 по 25874\n",
      "Найдена формула \"\\(\\lambda \\= 0\\)\" на позициях с 25945 по 25963\n"
     ]
    }
   ],
   "source": [
    "from app.parser.doc import editor\n",
    "import docx\n",
    "import re\n",
    "\n",
    "d = docx.Document()\n",
    "pp = d.add_paragraph()\n",
    "\n",
    "last_id = 0\n",
    "for match in re.finditer(pattern, text):\n",
    "    start, end = match.span()\n",
    "    formula = match.group()\n",
    "    formula = formula.replace('\\\\{', '{').replace('\\\\}', '}')\n",
    "    formula = formula.replace('\\\\\\\\\\\\', '*TMP_DELIMITER*')\n",
    "    formula = formula.replace('\\\\\\\\', '\\\\')\n",
    "    formula = formula.replace('*TMP_DELIMITER*', '\\\\\\\\\\\\')\n",
    "    print(f'Найдена формула \"{formula}\" на позициях с {start} по {end}')\n",
    "    p = pp.add_run(text[last_id:start] + \" \")\n",
    "    try:\n",
    "        dd = editor.latex_to_word2(formula[2:-2])\n",
    "        p._element.append(dd)\n",
    "        last_id = end + 1\n",
    "    except Exception as e:\n",
    "        print(e)\n",
    "p = pp.add_run(text[last_id:] + \" \")\n",
    "d.save('./dest/dd.docx')\n",
    "#editor.latex_to_word('\\cos (2\\theta) = \\cos^2 \\theta - \\sin^2 \\theta')"
   ],
   "metadata": {
    "collapsed": false,
    "ExecuteTime": {
     "end_time": "2023-10-31T22:49:59.266360200Z",
     "start_time": "2023-10-31T22:49:59.069816400Z"
    }
   },
   "id": "62bd770efa037be5"
  },
  {
   "cell_type": "code",
   "execution_count": 22,
   "outputs": [
    {
     "name": "stdout",
     "output_type": "stream",
     "text": [
      "\\(f(t)=\\begin{cases}0,t<0 \\\\\\lambda * e^{-\\lambda * t}, t\\geq0 \\end{cases}\\)\n"
     ]
    }
   ],
   "source": [
    "pattern = r\"\\\\\\(.*\\{.*\\\\\\)\"\n",
    "for match in re.finditer(pattern, text):\n",
    "    print(match.group(0))"
   ],
   "metadata": {
    "collapsed": false,
    "ExecuteTime": {
     "end_time": "2023-10-31T22:32:53.211978500Z",
     "start_time": "2023-10-31T22:32:53.194207400Z"
    }
   },
   "id": "9b3aa906e81b4740"
  },
  {
   "cell_type": "markdown",
   "source": [
    "# Инфо о РП"
   ],
   "metadata": {
    "collapsed": false
   },
   "id": "52735a98aa47c947"
  },
  {
   "cell_type": "code",
   "execution_count": 12,
   "outputs": [],
   "source": [
    "from app.parser import json\n",
    "from openpyxl import Workbook\n",
    "from datetime import datetime\n",
    "from app.utils import try_parse_date"
   ],
   "metadata": {
    "collapsed": false,
    "ExecuteTime": {
     "end_time": "2023-11-01T21:34:15.822106400Z",
     "start_time": "2023-11-01T21:34:15.806717900Z"
    }
   },
   "id": "ae6e0a10615bc587"
  },
  {
   "cell_type": "code",
   "execution_count": 16,
   "outputs": [],
   "source": [
    "report = json.from_file('./dest/rp_report.json')\n",
    "wb = Workbook()\n",
    "ws = wb.active\n",
    "i = 2\n",
    "\n",
    "ws['A1'] = 'Группа'\n",
    "ws.column_dimensions[\"A\"].width = 10\n",
    "ws['B1'] = 'Название РП'\n",
    "ws.column_dimensions[\"B\"].width = 120\n",
    "ws['C1'] = 'Пользователь'\n",
    "ws.column_dimensions[\"C\"].width = 20\n",
    "ws['D1'] = 'Владелец'\n",
    "ws.column_dimensions[\"D\"].width = 20\n",
    "ws['E1'] = 'Изменено'\n",
    "ws.column_dimensions[\"E\"].width = 20\n",
    "\n",
    "for year in report:\n",
    "    for kaf in report[year]:\n",
    "        for discipline in report[year][kaf]:\n",
    "            for plan in report[year][kaf][discipline]:\n",
    "                for rp in report[year][kaf][discipline][plan]:\n",
    "                    rpd = report[year][kaf][discipline][plan][rp]\n",
    "\n",
    "                    group = rpd['group']\n",
    "                    ws[f'A{i}'].value = group['name']\n",
    "\n",
    "                    rp_info = rpd['РПД'][0]\n",
    "                    ws[f'B{i}'] = rp_info['name']\n",
    "                    ws[f'B{i}'].hyperlink = rpd['url']\n",
    "                    ws[f'C{i}'] = rp_info['user']\n",
    "                    ws[f'D{i}'] = rp_info['owner']\n",
    "                    ws[f'E{i}'] = try_parse_date(rp_info['modified'])\n",
    "\n",
    "                    i += 1\n",
    "\n",
    "wb.save('./dest/rp_report.xlsx')"
   ],
   "metadata": {
    "collapsed": false,
    "ExecuteTime": {
     "end_time": "2023-11-01T21:39:22.425009400Z",
     "start_time": "2023-11-01T21:39:22.265588500Z"
    }
   },
   "id": "ea9105fc02484283"
  },
  {
   "cell_type": "code",
   "execution_count": null,
   "outputs": [],
   "source": [],
   "metadata": {
    "collapsed": false
   },
   "id": "282dc1399230473f"
  }
 ],
 "metadata": {
  "kernelspec": {
   "display_name": "Python 3",
   "language": "python",
   "name": "python3"
  },
  "language_info": {
   "codemirror_mode": {
    "name": "ipython",
    "version": 2
   },
   "file_extension": ".py",
   "mimetype": "text/x-python",
   "name": "python",
   "nbconvert_exporter": "python",
   "pygments_lexer": "ipython2",
   "version": "2.7.6"
  }
 },
 "nbformat": 4,
 "nbformat_minor": 5
}
