{
 "cells": [
  {
   "cell_type": "code",
   "execution_count": 52,
   "outputs": [],
   "source": [
    "from app.rpd.api import RpdApi, Params\n",
    "from app.rpd.RpdApp import CompetenceBoard\n",
    "import json"
   ],
   "metadata": {
    "collapsed": false,
    "ExecuteTime": {
     "end_time": "2023-10-26T16:50:28.248806600Z",
     "start_time": "2023-10-26T16:50:28.212904500Z"
    }
   },
   "id": "dd61a3b6d4b41880"
  },
  {
   "cell_type": "code",
   "execution_count": 53,
   "outputs": [],
   "source": [
    "api = RpdApi(data={\n",
    "    Params.rup_row_id: 3019701,\n",
    "    Params.rp_id: 741082,\n",
    "})"
   ],
   "metadata": {
    "collapsed": false,
    "ExecuteTime": {
     "end_time": "2023-10-26T16:50:28.330048500Z",
     "start_time": "2023-10-26T16:50:28.219810200Z"
    }
   },
   "id": "6439f9d2c9a2f33f"
  },
  {
   "cell_type": "code",
   "execution_count": 54,
   "outputs": [
    {
     "name": "stdout",
     "output_type": "stream",
     "text": [
      "GET https://rpd.donstu.ru/Rp3/Load {'rupRowId': 3019701, 'rpId': 741082}\n"
     ]
    }
   ],
   "source": [
    "comps_result = api.get_competencies_of_disciplines()\n",
    "if comps_result.status_code == 200:\n",
    "    comps = json.loads(comps_result.text)['data']['items']"
   ],
   "metadata": {
    "collapsed": false,
    "ExecuteTime": {
     "end_time": "2023-10-26T16:50:28.395809800Z",
     "start_time": "2023-10-26T16:50:28.332054300Z"
    }
   },
   "id": "5524a903c904301a"
  },
  {
   "cell_type": "code",
   "execution_count": 55,
   "outputs": [],
   "source": [
    "cb = CompetenceBoard(None)\n",
    "for c in comps:\n",
    "    cb.add_item(c)"
   ],
   "metadata": {
    "collapsed": false,
    "ExecuteTime": {
     "end_time": "2023-10-26T16:50:28.395809800Z",
     "start_time": "2023-10-26T16:50:28.388900500Z"
    }
   },
   "id": "b52afec25a2fd760"
  },
  {
   "cell_type": "code",
   "execution_count": 56,
   "outputs": [],
   "source": [
    "#cb.generate_table1('./table11.docx')"
   ],
   "metadata": {
    "collapsed": false,
    "ExecuteTime": {
     "end_time": "2023-10-26T16:50:28.406826100Z",
     "start_time": "2023-10-26T16:50:28.392228100Z"
    }
   },
   "id": "b6ea1c7820bc8c39"
  },
  {
   "cell_type": "code",
   "execution_count": 57,
   "outputs": [],
   "source": [
    "from docx import Document\n",
    "from docx.enum.section import WD_ORIENT, WD_SECTION\n",
    "from docx.enum.table import WD_TABLE_ALIGNMENT, WD_CELL_VERTICAL_ALIGNMENT\n",
    "from docx.enum.style import WD_STYLE_TYPE\n",
    "from docx.shared import Cm\n",
    "from docx.shared import Pt\n",
    "\n",
    "from docx.table import _Cell\n",
    "from docx.oxml import OxmlElement\n",
    "from docx.oxml.ns import qn"
   ],
   "metadata": {
    "collapsed": false,
    "ExecuteTime": {
     "end_time": "2023-10-26T16:50:28.406826100Z",
     "start_time": "2023-10-26T16:50:28.397818700Z"
    }
   },
   "id": "e474413f08bb5316"
  },
  {
   "cell_type": "code",
   "execution_count": 58,
   "outputs": [],
   "source": [
    "doc = Document()"
   ],
   "metadata": {
    "collapsed": false,
    "ExecuteTime": {
     "end_time": "2023-10-26T16:50:28.432535500Z",
     "start_time": "2023-10-26T16:50:28.404828900Z"
    }
   },
   "id": "df2145f5a5b3aa44"
  },
  {
   "cell_type": "code",
   "execution_count": 59,
   "outputs": [],
   "source": [
    "def set_margins(section, top=None, bottom=None, left=None, right=None, all=None):\n",
    "    if all is not None:\n",
    "        if top is None: section.top_margin = Cm(all)\n",
    "        if bottom is None: section.bottom_margin = Cm(all)\n",
    "        if left is None: section.left_margin = Cm(all)\n",
    "        if right is None: section.right_margin = Cm(all)\n",
    "    if top is not None:\n",
    "        section.top_margin = Cm(top)\n",
    "    if bottom is not None:\n",
    "        section.bottom_margin = Cm(bottom)\n",
    "    if left is not None:\n",
    "        section.left_margin = Cm(left)\n",
    "    if right is not None:\n",
    "        section.right_margin = Cm(right)\n",
    "\n",
    "\n",
    "def rotate(section):\n",
    "    h, w = section.page_height, section.page_width\n",
    "    orient = section.orientation\n",
    "    if orient == WD_ORIENT.PORTRAIT:\n",
    "        section.orientation = WD_ORIENT.LANDSCAPE\n",
    "    else:\n",
    "        section.orientation = WD_ORIENT.PORTRAIT\n",
    "    section.page_width = h\n",
    "    section.page_height = w\n",
    "\n",
    "\n",
    "def set_cell_border(cell: _Cell, **kwargs):\n",
    "    \"\"\"\n",
    "    Set cell`s border\n",
    "    Usage:\n",
    "    set_cell_border(\n",
    "        cell,\n",
    "        top={\"sz\": 12, \"val\": \"single\", \"color\": \"#FF0000\", \"space\": \"0\"},\n",
    "        bottom={\"sz\": 12, \"color\": \"#00FF00\", \"val\": \"single\"},\n",
    "        start={\"sz\": 24, \"val\": \"dashed\", \"shadow\": \"true\"},\n",
    "        end={\"sz\": 12, \"val\": \"dashed\"},\n",
    "    )\n",
    "    \"\"\"\n",
    "    tc = cell._tc\n",
    "    tcPr = tc.get_or_add_tcPr()\n",
    "\n",
    "    # check for tag existnace, if none found, then create one\n",
    "    tcBorders = tcPr.first_child_found_in(\"w:tcBorders\")\n",
    "    if tcBorders is None:\n",
    "        tcBorders = OxmlElement('w:tcBorders')\n",
    "        tcPr.append(tcBorders)\n",
    "\n",
    "    # list over all available tags\n",
    "    for edge in ('start', 'top', 'end', 'bottom', 'insideH', 'insideV'):\n",
    "        edge_data = kwargs.get(edge)\n",
    "        if edge_data:\n",
    "            tag = 'w:{}'.format(edge)\n",
    "\n",
    "            # check for tag existnace, if none found, then create one\n",
    "            element = tcBorders.find(qn(tag))\n",
    "            if element is None:\n",
    "                element = OxmlElement(tag)\n",
    "                tcBorders.append(element)\n",
    "\n",
    "            # looks like order of attributes is important\n",
    "            for key in [\"sz\", \"val\", \"color\", \"space\", \"shadow\"]:\n",
    "                if key in edge_data:\n",
    "                    element.set(qn('w:{}'.format(key)), str(edge_data[key]))\n",
    "\n",
    "\n",
    "def cell_center(cell):\n",
    "    for p in cell.paragraphs:\n",
    "        p.alignment = WD_TABLE_ALIGNMENT.CENTER\n",
    "    cell.vertical_alignment = WD_CELL_VERTICAL_ALIGNMENT.CENTER\n",
    "\n",
    "\n",
    "def cell_bold(cell):\n",
    "    for p in cell.paragraphs:\n",
    "        for r in p.runs:\n",
    "            r.bold = True\n",
    "\n",
    "\n",
    "def cell_border(cell):\n",
    "    border = {\"sz\": 6, \"color\": \"#000000\", \"val\": \"single\"}\n",
    "    set_cell_border(\n",
    "        cell,\n",
    "        top=border,\n",
    "        bottom=border,\n",
    "        start=border,\n",
    "        end=border,\n",
    "    )\n",
    "\n",
    "\n",
    "def cell_body(cell):\n",
    "    for p in cell.paragraphs:\n",
    "        p.style = doc.styles['TableBodyStyle']\n",
    "        p.paragraph_format.space_after = Pt(0)\n",
    "\n",
    "\n",
    "def cell_header(cell):\n",
    "    for p in cell.paragraphs:\n",
    "        p.style = doc.styles['TableHeaderStyle']\n",
    "        p.paragraph_format.space_after = Pt(0)\n"
   ],
   "metadata": {
    "collapsed": false,
    "ExecuteTime": {
     "end_time": "2023-10-26T16:50:28.445392200Z",
     "start_time": "2023-10-26T16:50:28.424317600Z"
    }
   },
   "id": "d31d48a940c9468b"
  },
  {
   "cell_type": "code",
   "execution_count": 60,
   "outputs": [],
   "source": [
    "current_section = doc.sections[-1]\n",
    "rotate(current_section)\n",
    "set_margins(current_section, all=1, top=2)"
   ],
   "metadata": {
    "collapsed": false,
    "ExecuteTime": {
     "end_time": "2023-10-26T16:50:28.445392200Z",
     "start_time": "2023-10-26T16:50:28.429052800Z"
    }
   },
   "id": "27e7665556206f7b"
  },
  {
   "cell_type": "code",
   "execution_count": 61,
   "outputs": [],
   "source": [
    "headers = [\n",
    "    {\n",
    "        0: 'Компетенция',\n",
    "        1: 'Запоминание',\n",
    "        2: 'Оценочные средства',\n",
    "        4: 'Понимание',\n",
    "        5: 'Оценочные средства',\n",
    "        7: 'Применение',\n",
    "        8: 'Оценочные средства',\n",
    "    },\n",
    "    {\n",
    "        2: 'текущий контроль',\n",
    "        3: 'промежуточный контроль',\n",
    "        5: 'текущий контроль',\n",
    "        6: 'промежуточный контроль',\n",
    "        8: 'текущий контроль',\n",
    "        9: 'промежуточный контроль',\n",
    "    }\n",
    "]\n",
    "\n",
    "cells_text = {\n",
    "    2: '-',\n",
    "    3: 'Ответы на вопросы №1-15',\n",
    "    5: '-',\n",
    "    6: 'Прохождение производственной практики. Оформление и защита отчета.',\n",
    "    8: '-',\n",
    "    9: 'Прохождение производственной практики. Оформление и защита отчета.',\n",
    "}\n",
    "\n",
    "styles = [\n",
    "\n",
    "]\n",
    "p_header_text = \"Таблица 4 - Оценочные материалы (оценочные средства) по производственной практике «Ознакомительная практика»\""
   ],
   "metadata": {
    "collapsed": false,
    "ExecuteTime": {
     "end_time": "2023-10-26T16:50:28.445392200Z",
     "start_time": "2023-10-26T16:50:28.435545500Z"
    }
   },
   "id": "9a6753a3cea2def"
  },
  {
   "cell_type": "code",
   "execution_count": 62,
   "outputs": [],
   "source": [
    "style = doc.styles.add_style('TableBodyStyle', WD_STYLE_TYPE.PARAGRAPH)\n",
    "font = style.font\n",
    "font.name = 'Times New Roman'\n",
    "font.size = Pt(11)\n",
    "\n",
    "style = doc.styles.add_style('TableHeaderStyle', WD_STYLE_TYPE.PARAGRAPH)\n",
    "font = style.font\n",
    "font.name = 'Times New Roman'\n",
    "font.size = Pt(11)"
   ],
   "metadata": {
    "collapsed": false,
    "ExecuteTime": {
     "end_time": "2023-10-26T16:50:28.459381700Z",
     "start_time": "2023-10-26T16:50:28.442394500Z"
    }
   },
   "id": "466062a7d740e387"
  },
  {
   "cell_type": "code",
   "execution_count": 63,
   "outputs": [
    {
     "name": "stdout",
     "output_type": "stream",
     "text": [
      "Соединие (0,0) (1,0)\n",
      "Соединие (0,1) (1,1)\n",
      "Соединие (0,2) (0,3)\n",
      "Соединие (0,4) (1,4)\n",
      "Соединие (0,5) (0,6)\n",
      "Соединие (0,7) (1,7)\n",
      "Соединие (0,8) (0,9)\n"
     ]
    }
   ],
   "source": [
    "table = doc.add_table(rows=0, cols=10)\n",
    "\n",
    "for header in headers:\n",
    "    row = table.add_row()\n",
    "    for i in header:\n",
    "        row.cells[i].text = header[i]\n",
    "\n",
    "cols_count = len(table.rows[0].cells)\n",
    "i = 0\n",
    "while i < cols_count:\n",
    "    ii = 1\n",
    "    if i < cols_count - 1 and len(table.rows[0].cells[i + 1].text.strip()) == 0:\n",
    "        table.rows[0].cells[i].merge(table.rows[0].cells[i + 1])\n",
    "        ii += 1\n",
    "    if len(table.rows[1].cells[i].text.strip()) == 0:\n",
    "        table.rows[0].cells[i].merge(table.rows[1].cells[i])\n",
    "    i += ii\n",
    "\n",
    "for row in table.rows:\n",
    "    for style in styles:\n",
    "        if 'header' not in style['type']:\n",
    "            continue\n",
    "        for ind in style['indexes']:\n",
    "            style['func'](row.cells[ind])\n",
    "\n",
    "row = table.add_row()\n",
    "row_index = len(table.rows) - 1\n",
    "\n",
    "for competence in cb.competencies():\n",
    "    for indicator in competence.indicators():\n",
    "        \n",
    "        last_index = row_index\n",
    "        row = table.rows[row_index]\n",
    "        \n",
    "        row.cells[0].text = indicator.indi_code\n",
    "        for level in indicator.levels():\n",
    "            \n",
    "# \n",
    "#         last_index = row_index\n",
    "#         row = table.rows[row_index]\n",
    "# \n",
    "#         row.cells[0].text = indicator.indi_code\n",
    "#         row.cells[3].text = cells_text['type']\n",
    "#         row.cells[4].text = cells_text['control']\n",
    "#         row.cells[5].text = cells_text['OM']\n",
    "#         row.cells[6].text = cells_text['crit']\n",
    "# \n",
    "#         for level in indicator.levels():\n",
    "#             if level.contents is None or len(level.contents) < 4:\n",
    "#                 continue\n",
    "#             row.cells[1].text = level_names[level.level_id % len(level_names)]\n",
    "#             row.cells[2].text = level.contents\n",
    "# \n",
    "#             row_index += 1\n",
    "#             row = table.add_row()\n",
    "# \n",
    "#         row1 = table.rows[last_index]\n",
    "#         row2 = table.rows[row_index - 1]\n",
    "# \n",
    "#         for row_id in range(last_index, row_index):\n",
    "#             for style in styles:\n",
    "#                 if 'body' not in style['type']:\n",
    "#                     continue\n",
    "#                 for ind in style['indexes']:\n",
    "#                     style['func'](table.rows[row_id].cells[ind])\n",
    "# \n",
    "#         for m_id in merge_cols:\n",
    "#             row1.cells[m_id].merge(row2.cells[m_id])\n",
    "# \n",
    "# row._element.getparent().remove(row._element)\n",
    "# \n",
    "# for i in range(len(table.columns)):\n",
    "#     for cell in table.columns[i].cells:\n",
    "#         cell.width = Cm(cols_width[i])"
   ],
   "metadata": {
    "collapsed": false,
    "ExecuteTime": {
     "end_time": "2023-10-26T16:50:28.490765700Z",
     "start_time": "2023-10-26T16:50:28.452383100Z"
    }
   },
   "id": "5b602c06ce9833ea"
  },
  {
   "cell_type": "code",
   "execution_count": 65,
   "outputs": [],
   "source": [
    "filepath = './table3.docx'\n",
    "doc.save(filepath)"
   ],
   "metadata": {
    "collapsed": false,
    "ExecuteTime": {
     "end_time": "2023-10-26T16:50:34.188894800Z",
     "start_time": "2023-10-26T16:50:34.136562700Z"
    }
   },
   "id": "d429f0c7c2f63739"
  }
 ],
 "metadata": {
  "kernelspec": {
   "display_name": "Python 3",
   "language": "python",
   "name": "python3"
  },
  "language_info": {
   "codemirror_mode": {
    "name": "ipython",
    "version": 2
   },
   "file_extension": ".py",
   "mimetype": "text/x-python",
   "name": "python",
   "nbconvert_exporter": "python",
   "pygments_lexer": "ipython2",
   "version": "2.7.6"
  }
 },
 "nbformat": 4,
 "nbformat_minor": 5
}
