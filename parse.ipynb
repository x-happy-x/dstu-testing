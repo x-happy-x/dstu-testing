{
 "cells": [
  {
   "cell_type": "code",
   "execution_count": 25,
   "outputs": [],
   "source": [
    "username = \"vvivatshenko\"\n",
    "password = \"TwHf42nA\""
   ],
   "metadata": {
    "collapsed": false,
    "ExecuteTime": {
     "end_time": "2023-10-23T14:02:44.267047600Z",
     "start_time": "2023-10-23T14:02:44.203670100Z"
    }
   },
   "id": "edc0147db97bd336"
  },
  {
   "cell_type": "code",
   "execution_count": 26,
   "id": "initial_id",
   "metadata": {
    "collapsed": true,
    "ExecuteTime": {
     "end_time": "2023-10-23T14:02:44.268050400Z",
     "start_time": "2023-10-23T14:02:44.221675300Z"
    }
   },
   "outputs": [],
   "source": [
    "import selenium\n",
    "from selenium import webdriver\n",
    "from selenium.webdriver.edge.options import Options \n",
    "from selenium.webdriver.common.keys import Keys\n",
    "from selenium.webdriver.common.by import By\n",
    "\n",
    "# cookie dump\n",
    "import pickle\n",
    "\n",
    "# parse\n",
    "import requests\n",
    "from bs4 import BeautifulSoup"
   ]
  },
  {
   "cell_type": "code",
   "execution_count": 27,
   "outputs": [],
   "source": [
    "def save_cookie(browser):\n",
    "    pickle.dump(browser.get_cookies(), open(\"cookies.pkl\", \"wb\"))\n",
    "\n",
    "def load_cookie(browser):\n",
    "    cookies = pickle.load(open(\"cookies.pkl\", \"rb\"))\n",
    "    for cookie in cookies:\n",
    "        browser.add_cookie(cookie)"
   ],
   "metadata": {
    "collapsed": false,
    "ExecuteTime": {
     "end_time": "2023-10-23T14:02:44.284588700Z",
     "start_time": "2023-10-23T14:02:44.248086300Z"
    }
   },
   "id": "50da8589fb372454"
  },
  {
   "cell_type": "code",
   "execution_count": 30,
   "outputs": [
    {
     "name": "stdout",
     "output_type": "stream",
     "text": [
      "[]\n"
     ]
    }
   ],
   "source": [
    "edge_options = Options()\n",
    "#edge_options.add_argument(\"user-data-dir=selenium\") \n",
    "\n",
    "browser = webdriver.Edge(options=edge_options)\n",
    "print(browser.get_cookies())"
   ],
   "metadata": {
    "collapsed": false,
    "ExecuteTime": {
     "end_time": "2023-10-23T14:04:11.186770500Z",
     "start_time": "2023-10-23T14:04:02.834341500Z"
    }
   },
   "id": "7f80a6a01c24f583"
  },
  {
   "cell_type": "code",
   "execution_count": null,
   "outputs": [],
   "source": [],
   "metadata": {
    "collapsed": false
   },
   "id": "fa987bac07499a3"
  },
  {
   "cell_type": "code",
   "execution_count": 33,
   "outputs": [
    {
     "name": "stdout",
     "output_type": "stream",
     "text": [
      "[{'domain': 'rpd.donstu.ru', 'httpOnly': True, 'name': '.AspNetCore.Cookies', 'path': '/', 'sameSite': 'Lax', 'secure': False, 'value': 'CfDJ8Gs7CqRppCdAnvkfHiiiQPPP_Vr7jEVLDMJNVt7SJOiICS2vfoVH82-49shKRTq-pGTN4eN6WRl6dWJxdBjZoFuMIJfFtRg2Piwfy4lMv1n_h_7LpARJUTxMQnw4nc0pzQ_1fJMNwO0SnC4LIWqbuRbs-d5DGVJkx43fRy519B2dGBywSR1zM4um5QB19NC7M3z9UgwqjXNk5i7_6p0D353qnWIrSh3aotT6wwwMewKtyrdezL50zops1FzTk2iIJvOCd7FtvPYOqbHLUfGa3WOcmoh4N-vN19LNjElAq8r4'}]\n"
     ]
    }
   ],
   "source": [
    "print(browser.get_cookies())"
   ],
   "metadata": {
    "collapsed": false,
    "ExecuteTime": {
     "end_time": "2023-10-23T14:05:41.429099600Z",
     "start_time": "2023-10-23T14:05:41.371282700Z"
    }
   },
   "id": "74eea7634c8bba52"
  },
  {
   "cell_type": "code",
   "execution_count": 31,
   "outputs": [],
   "source": [
    "browser.get('https://rpd.donstu.ru/')"
   ],
   "metadata": {
    "collapsed": false,
    "ExecuteTime": {
     "end_time": "2023-10-23T14:04:28.310617Z",
     "start_time": "2023-10-23T14:04:26.682842100Z"
    }
   },
   "id": "836815b4f6f8cc14"
  },
  {
   "cell_type": "code",
   "execution_count": null,
   "outputs": [],
   "source": [
    "if \"авторизация\" in browser.title.lower():\n",
    "    browser.find_element(By.NAME,\"username\").clear().send_keys(username)\n",
    "    browser.find_element(By.NAME,\"password\").clear().send_keys(password)"
   ],
   "metadata": {
    "collapsed": false,
    "ExecuteTime": {
     "start_time": "2023-10-23T14:02:52.080600500Z"
    }
   },
   "id": "4b485ac4c1afd22f"
  },
  {
   "cell_type": "code",
   "execution_count": null,
   "outputs": [],
   "source": [],
   "metadata": {
    "collapsed": false,
    "ExecuteTime": {
     "start_time": "2023-10-23T14:02:52.092131600Z"
    }
   },
   "id": "212fc5d6a8f20652"
  },
  {
   "cell_type": "code",
   "execution_count": null,
   "outputs": [],
   "source": [
    "# st_accept = \"text/html\"\n",
    "# st_useragent = \"Mozilla/5.0 (Macintosh; Intel Mac OS X 12_3_1) AppleWebKit/605.1.15 (KHTML, like Gecko) Version/15.4 Safari/605.1.15\"\n",
    "# headers = {\n",
    "#    \"Accept\": st_accept,\n",
    "#    \"User-Agent\": st_useragent\n",
    "# }\n",
    "# \n",
    "# response = requests.get(\"https://selectel.ru/blog/courses/\", headers)\n",
    "# src = response.text\n",
    "# print(src)"
   ],
   "metadata": {
    "collapsed": false,
    "ExecuteTime": {
     "start_time": "2023-10-23T14:02:52.095132900Z"
    }
   },
   "id": "8824a949e6297c4d"
  }
 ],
 "metadata": {
  "kernelspec": {
   "display_name": "Python 3",
   "language": "python",
   "name": "python3"
  },
  "language_info": {
   "codemirror_mode": {
    "name": "ipython",
    "version": 2
   },
   "file_extension": ".py",
   "mimetype": "text/x-python",
   "name": "python",
   "nbconvert_exporter": "python",
   "pygments_lexer": "ipython2",
   "version": "2.7.6"
  }
 },
 "nbformat": 4,
 "nbformat_minor": 5
}
