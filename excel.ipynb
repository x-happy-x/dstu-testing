{
 "cells": [
  {
   "cell_type": "code",
   "execution_count": 5,
   "id": "initial_id",
   "metadata": {
    "collapsed": true,
    "ExecuteTime": {
     "end_time": "2023-10-19T11:17:09.296545800Z",
     "start_time": "2023-10-19T11:17:09.293218100Z"
    }
   },
   "outputs": [],
   "source": [
    "import os\n",
    "import pandas as pd"
   ]
  },
  {
   "cell_type": "code",
   "execution_count": 7,
   "outputs": [],
   "source": [
    "path = './УП'\n",
    "files = os.listdir(path)\n",
    "file = files[0]\n",
    "excel = pd.ExcelFile(os.path.join(path, file))"
   ],
   "metadata": {
    "collapsed": false,
    "ExecuteTime": {
     "end_time": "2023-10-19T11:17:35.084118100Z",
     "start_time": "2023-10-19T11:17:33.294719600Z"
    }
   },
   "id": "5095f74d267057d4"
  },
  {
   "cell_type": "code",
   "execution_count": 8,
   "outputs": [
    {
     "data": {
      "text/plain": "['Титул',\n 'График',\n 'ПланСвод',\n 'План',\n 'Компетенции',\n 'Компетенции(2)',\n 'Компетенции(3)',\n 'Компетенции(4)',\n 'Курс 1',\n 'Курс 2',\n 'Курс 3',\n 'Практическая  подготовка',\n 'Практики',\n 'Курсовые',\n 'Свод',\n 'ГЭК (ВКР)',\n 'ГЭК',\n 'Выпускные экзамены',\n 'Спец',\n 'Кафедры',\n 'Диаграмма',\n 'Примечание']"
     },
     "execution_count": 8,
     "metadata": {},
     "output_type": "execute_result"
    }
   ],
   "source": [
    "excel.sheet_names"
   ],
   "metadata": {
    "collapsed": false,
    "ExecuteTime": {
     "end_time": "2023-10-19T11:17:53.721470200Z",
     "start_time": "2023-10-19T11:17:53.695360500Z"
    }
   },
   "id": "2790154993870adf"
  },
  {
   "cell_type": "code",
   "execution_count": 9,
   "outputs": [],
   "source": [
    "sheet = 'План'"
   ],
   "metadata": {
    "collapsed": false,
    "ExecuteTime": {
     "end_time": "2023-10-19T11:18:31.161534200Z",
     "start_time": "2023-10-19T11:18:31.143303100Z"
    }
   },
   "id": "a3fc8a50a9476d50"
  },
  {
   "cell_type": "code",
   "execution_count": 12,
   "outputs": [
    {
     "data": {
      "text/plain": "                                                    -             -.1  \\\n0                                                 NaN             NaN   \n1                                     Считать в плане          Индекс   \n2                         Блок 1.Дисциплины (модули)              NaN   \n3                                 Обязательная часть              NaN   \n4                                                   +         Б1.О.01   \n5                                                   +         Б1.О.02   \n6                                                   +         Б1.О.03   \n7                                                   +         Б1.О.04   \n8                                                   +         Б1.О.05   \n9                                                   +         Б1.О.06   \n10                                                  +         Б1.О.07   \n11                                                  +         Б1.О.08   \n12                                                  +         Б1.О.09   \n13  Часть, формируемая участниками образовательных...             NaN   \n14                                                  +         Б1.В.01   \n15                                                  +         Б1.В.02   \n16                                                  +         Б1.В.03   \n17                                                  +         Б1.В.04   \n18                                                  +      Б1.В.ДВ.01   \n19                                                  +   Б1.В.ДВ.01.01   \n20                                                  -   Б1.В.ДВ.01.02   \n21                                                  +      Б1.В.ДВ.02   \n22                                                  +   Б1.В.ДВ.02.01   \n23                                                  -   Б1.В.ДВ.02.02   \n24                                                  +      Б1.В.ДВ.03   \n25                                                  +   Б1.В.ДВ.03.01   \n26                                                  -   Б1.В.ДВ.03.02   \n27                                   Блок 2.Практика              NaN   \n28                                Обязательная часть              NaN   \n29                                                  +         Б2.О.01   \n30                                                  +   Б2.О.01.01(У)   \n31                                                  +         Б2.О.02   \n32                                                  +   Б2.О.02.01(Н)   \n33                                                  +  Б2.О.02.02(Пд)   \n34        Блок 3.Государственная итоговая аттестация              NaN   \n35                                                  +        Б3.01(Д)   \n36                     ФТД.Факультативные дисциплины              NaN   \n37                                                  +          ФТД.01   \n38                                                  +          ФТД.02   \n\n                                                  -.2 Формы пром. атт.  \\\n0                                                 NaN              NaN   \n1                                        Наименование         Экза мен   \n2                                                 NaN              NaN   \n3                                                 NaN              NaN   \n4                               Прикладная математика              NaN   \n5          Методология научных исследований в отрасли                1   \n6   Информационные системы и технологии в научных ...                1   \n7   Модели и методы исследования информационных пр...                1   \n8   Профессиональная коммуникация на иностранном я...              NaN   \n9                                 Системная инженерия                2   \n10                                         Акмеология              NaN   \n11      Социальные и философские проблемы ИТ отрасли               NaN   \n12            Современные технологии программирования                2   \n13                                                NaN              NaN   \n14                     Мировые информационные ресурсы              NaN   \n15                      Реинжиниринг бизнес-процессов                2   \n16   Современные коммуникативные технологии в отрасли              NaN   \n17                            Управление ИТ-проектами              NaN   \n18                     Дисциплины по выбору Б1.В.ДВ.1                1   \n19  Инструментальные средства проектирования инфор...                1   \n20  CASE-средства проектирования программного обес...                1   \n21                     Дисциплины по выбору Б1.В.ДВ.2                2   \n22       Методы и средства поддержки принятия решений                2   \n23                         Имитационное моделирование                2   \n24                     Дисциплины по выбору Б1.В.ДВ.3                2   \n25                   Надежность информационных систем                2   \n26                Методы оценки информационных систем                2   \n27                                                NaN              NaN   \n28                                                NaN              NaN   \n29                                   Учебная практика              NaN   \n30  Технологическая (проектно-технологическая) пра...              NaN   \n31                          Производственная практика              NaN   \n32                    Научно-исследовательская работа              NaN   \n33                             Преддипломная практика              NaN   \n34                                                NaN              NaN   \n35  Выполнение и защита выпускной квалификационной...                3   \n36                                                NaN              NaN   \n37                            Инновационная экономика              NaN   \n38        Основы технологического предпринимательства              NaN   \n\n   Unnamed: 4   Unnamed: 5 Unnamed: 6         з.е. Unnamed: 8           -.3  \\\n0         NaN          NaN        NaN          NaN        NaN           NaN   \n1       Зачет  Зачет с оц.     Контр.  Экспер тное       Факт  Часов в з.е.   \n2         NaN          NaN        NaN           87         87           NaN   \n3         NaN          NaN        NaN           49         49           NaN   \n4           1          NaN          1            5          5            36   \n5         NaN          NaN          1            5          5            36   \n6         NaN          NaN          1            5          5            36   \n7         NaN          NaN          1            5          5            36   \n8           1          NaN          1            5          5            36   \n9           1          NaN         12            8          8            36   \n10          1          NaN          1            4          4            36   \n11          2          NaN          2            4          4            36   \n12          1          NaN         12            8          8            36   \n13        NaN          NaN        NaN           38         38           NaN   \n14          2            2         22            6          6            36   \n15        NaN          NaN          2            6          6            36   \n16          1            1         11            6          6            36   \n17        NaN            2          2            4          4            36   \n18        NaN          NaN          1            5          5           NaN   \n19        NaN          NaN          1            5          5            36   \n20        NaN          NaN          1            5          5            36   \n21        NaN          NaN          2            4          4           NaN   \n22        NaN          NaN          2            4          4            36   \n23        NaN          NaN          2            4          4            36   \n24          2          NaN         22            7          7           NaN   \n25          2          NaN         22            7          7            36   \n26          2          NaN         22            7          7            36   \n27        NaN          NaN        NaN           24         24           NaN   \n28        NaN          NaN        NaN           24         24           NaN   \n29        NaN            1        NaN            6          6           NaN   \n30        NaN            1        NaN            6          6            36   \n31        NaN         1123        NaN           18         18           NaN   \n32        NaN          112        NaN           12         12            36   \n33        NaN            3        NaN            6          6            36   \n34        NaN          NaN        NaN            9          9           NaN   \n35        NaN          NaN        NaN            9          9            36   \n36        NaN          NaN        NaN            5          5           NaN   \n37          1          NaN        NaN            3          3            36   \n38          2          NaN        NaN            2          2            36   \n\n    ...   Unnamed: 54 Unnamed: 55 Unnamed: 56 Unnamed: 57 Unnamed: 58  \\\n0   ...           NaN   Семестр 6         NaN         NaN         NaN   \n1   ...  Формы контр.         Лек         Лаб          Пр         КСР   \n2   ...           NaN         NaN         NaN         NaN         NaN   \n3   ...           NaN         NaN         NaN         NaN         NaN   \n4   ...           NaN         NaN         NaN         NaN         NaN   \n5   ...           NaN         NaN         NaN         NaN         NaN   \n6   ...           NaN         NaN         NaN         NaN         NaN   \n7   ...           NaN         NaN         NaN         NaN         NaN   \n8   ...           NaN         NaN         NaN         NaN         NaN   \n9   ...           NaN         NaN         NaN         NaN         NaN   \n10  ...           NaN         NaN         NaN         NaN         NaN   \n11  ...           NaN         NaN         NaN         NaN         NaN   \n12  ...           NaN         NaN         NaN         NaN         NaN   \n13  ...           NaN         NaN         NaN         NaN         NaN   \n14  ...           NaN         NaN         NaN         NaN         NaN   \n15  ...           NaN         NaN         NaN         NaN         NaN   \n16  ...           NaN         NaN         NaN         NaN         NaN   \n17  ...           NaN         NaN         NaN         NaN         NaN   \n18  ...           NaN         NaN         NaN         NaN         NaN   \n19  ...           NaN         NaN         NaN         NaN         NaN   \n20  ...           NaN         NaN         NaN         NaN         NaN   \n21  ...           NaN         NaN         NaN         NaN         NaN   \n22  ...           NaN         NaN         NaN         NaN         NaN   \n23  ...           NaN         NaN         NaN         NaN         NaN   \n24  ...           NaN         NaN         NaN         NaN         NaN   \n25  ...           NaN         NaN         NaN         NaN         NaN   \n26  ...           NaN         NaN         NaN         NaN         NaN   \n27  ...           NaN         NaN         NaN         NaN         NaN   \n28  ...           NaN         NaN         NaN         NaN         NaN   \n29  ...           NaN         NaN         NaN         NaN         NaN   \n30  ...           NaN         NaN         NaN         NaN         NaN   \n31  ...             о         NaN         NaN         NaN         NaN   \n32  ...           NaN         NaN         NaN         NaN         NaN   \n33  ...             о         NaN         NaN         NaN         NaN   \n34  ...           NaN         NaN         NaN         NaN         NaN   \n35  ...             э         NaN         NaN         NaN         NaN   \n36  ...           NaN         NaN         NaN         NaN         NaN   \n37  ...           NaN         NaN         NaN         NaN         NaN   \n38  ...           NaN         NaN         NaN         NaN         NaN   \n\n   Unnamed: 59 Unnamed: 60 Unnamed: 61   Unnamed: 62 Закрепленная кафедра  \n0          NaN         NaN         NaN           NaN                  NaN  \n1           СР         ИКР   Конт роль  Формы контр.                  Код  \n2          NaN         NaN         NaN           NaN                  NaN  \n3          NaN         NaN         NaN           NaN                  NaN  \n4          NaN         NaN         NaN           NaN                   53  \n5          NaN         NaN         NaN           NaN                    9  \n6          NaN         NaN         NaN           NaN                    9  \n7          NaN         NaN         NaN           NaN                    9  \n8          NaN         NaN         NaN           NaN                    8  \n9          NaN         NaN         NaN           NaN                    9  \n10         NaN         NaN         NaN           NaN                   35  \n11         NaN         NaN         NaN           NaN                    9  \n12         NaN         NaN         NaN           NaN                    9  \n13         NaN         NaN         NaN           NaN                  NaN  \n14         NaN         NaN         NaN           NaN                    9  \n15         NaN         NaN         NaN           NaN                    9  \n16         NaN         NaN         NaN           NaN                   23  \n17         NaN         NaN         NaN           NaN                    9  \n18         NaN         NaN         NaN           NaN                  NaN  \n19         NaN         NaN         NaN           NaN                    9  \n20         NaN         NaN         NaN           NaN                    9  \n21         NaN         NaN         NaN           NaN                  NaN  \n22         NaN         NaN         NaN           NaN                    9  \n23         NaN         NaN         NaN           NaN                    9  \n24         NaN         NaN         NaN           NaN                  NaN  \n25         NaN         NaN         NaN           NaN                    9  \n26         NaN         NaN         NaN           NaN                    9  \n27         NaN         NaN         NaN           NaN                  NaN  \n28         NaN         NaN         NaN           NaN                  NaN  \n29         NaN         NaN         NaN           NaN                  NaN  \n30         NaN         NaN         NaN           NaN                    9  \n31         NaN         NaN         NaN           NaN                  NaN  \n32         NaN         NaN         NaN           NaN                    9  \n33         NaN         NaN         NaN           NaN                    9  \n34         NaN         NaN         NaN           NaN                  NaN  \n35         NaN         NaN         NaN           NaN                    9  \n36         NaN         NaN         NaN           NaN                  NaN  \n37         NaN         NaN         NaN           NaN                   37  \n38         NaN         NaN         NaN           NaN                   37  \n\n[39 rows x 64 columns]",
      "text/html": "<div>\n<style scoped>\n    .dataframe tbody tr th:only-of-type {\n        vertical-align: middle;\n    }\n\n    .dataframe tbody tr th {\n        vertical-align: top;\n    }\n\n    .dataframe thead th {\n        text-align: right;\n    }\n</style>\n<table border=\"1\" class=\"dataframe\">\n  <thead>\n    <tr style=\"text-align: right;\">\n      <th></th>\n      <th>-</th>\n      <th>-.1</th>\n      <th>-.2</th>\n      <th>Формы пром. атт.</th>\n      <th>Unnamed: 4</th>\n      <th>Unnamed: 5</th>\n      <th>Unnamed: 6</th>\n      <th>з.е.</th>\n      <th>Unnamed: 8</th>\n      <th>-.3</th>\n      <th>...</th>\n      <th>Unnamed: 54</th>\n      <th>Unnamed: 55</th>\n      <th>Unnamed: 56</th>\n      <th>Unnamed: 57</th>\n      <th>Unnamed: 58</th>\n      <th>Unnamed: 59</th>\n      <th>Unnamed: 60</th>\n      <th>Unnamed: 61</th>\n      <th>Unnamed: 62</th>\n      <th>Закрепленная кафедра</th>\n    </tr>\n  </thead>\n  <tbody>\n    <tr>\n      <th>0</th>\n      <td>NaN</td>\n      <td>NaN</td>\n      <td>NaN</td>\n      <td>NaN</td>\n      <td>NaN</td>\n      <td>NaN</td>\n      <td>NaN</td>\n      <td>NaN</td>\n      <td>NaN</td>\n      <td>NaN</td>\n      <td>...</td>\n      <td>NaN</td>\n      <td>Семестр 6</td>\n      <td>NaN</td>\n      <td>NaN</td>\n      <td>NaN</td>\n      <td>NaN</td>\n      <td>NaN</td>\n      <td>NaN</td>\n      <td>NaN</td>\n      <td>NaN</td>\n    </tr>\n    <tr>\n      <th>1</th>\n      <td>Считать в плане</td>\n      <td>Индекс</td>\n      <td>Наименование</td>\n      <td>Экза мен</td>\n      <td>Зачет</td>\n      <td>Зачет с оц.</td>\n      <td>Контр.</td>\n      <td>Экспер тное</td>\n      <td>Факт</td>\n      <td>Часов в з.е.</td>\n      <td>...</td>\n      <td>Формы контр.</td>\n      <td>Лек</td>\n      <td>Лаб</td>\n      <td>Пр</td>\n      <td>КСР</td>\n      <td>СР</td>\n      <td>ИКР</td>\n      <td>Конт роль</td>\n      <td>Формы контр.</td>\n      <td>Код</td>\n    </tr>\n    <tr>\n      <th>2</th>\n      <td>Блок 1.Дисциплины (модули)</td>\n      <td>NaN</td>\n      <td>NaN</td>\n      <td>NaN</td>\n      <td>NaN</td>\n      <td>NaN</td>\n      <td>NaN</td>\n      <td>87</td>\n      <td>87</td>\n      <td>NaN</td>\n      <td>...</td>\n      <td>NaN</td>\n      <td>NaN</td>\n      <td>NaN</td>\n      <td>NaN</td>\n      <td>NaN</td>\n      <td>NaN</td>\n      <td>NaN</td>\n      <td>NaN</td>\n      <td>NaN</td>\n      <td>NaN</td>\n    </tr>\n    <tr>\n      <th>3</th>\n      <td>Обязательная часть</td>\n      <td>NaN</td>\n      <td>NaN</td>\n      <td>NaN</td>\n      <td>NaN</td>\n      <td>NaN</td>\n      <td>NaN</td>\n      <td>49</td>\n      <td>49</td>\n      <td>NaN</td>\n      <td>...</td>\n      <td>NaN</td>\n      <td>NaN</td>\n      <td>NaN</td>\n      <td>NaN</td>\n      <td>NaN</td>\n      <td>NaN</td>\n      <td>NaN</td>\n      <td>NaN</td>\n      <td>NaN</td>\n      <td>NaN</td>\n    </tr>\n    <tr>\n      <th>4</th>\n      <td>+</td>\n      <td>Б1.О.01</td>\n      <td>Прикладная математика</td>\n      <td>NaN</td>\n      <td>1</td>\n      <td>NaN</td>\n      <td>1</td>\n      <td>5</td>\n      <td>5</td>\n      <td>36</td>\n      <td>...</td>\n      <td>NaN</td>\n      <td>NaN</td>\n      <td>NaN</td>\n      <td>NaN</td>\n      <td>NaN</td>\n      <td>NaN</td>\n      <td>NaN</td>\n      <td>NaN</td>\n      <td>NaN</td>\n      <td>53</td>\n    </tr>\n    <tr>\n      <th>5</th>\n      <td>+</td>\n      <td>Б1.О.02</td>\n      <td>Методология научных исследований в отрасли</td>\n      <td>1</td>\n      <td>NaN</td>\n      <td>NaN</td>\n      <td>1</td>\n      <td>5</td>\n      <td>5</td>\n      <td>36</td>\n      <td>...</td>\n      <td>NaN</td>\n      <td>NaN</td>\n      <td>NaN</td>\n      <td>NaN</td>\n      <td>NaN</td>\n      <td>NaN</td>\n      <td>NaN</td>\n      <td>NaN</td>\n      <td>NaN</td>\n      <td>9</td>\n    </tr>\n    <tr>\n      <th>6</th>\n      <td>+</td>\n      <td>Б1.О.03</td>\n      <td>Информационные системы и технологии в научных ...</td>\n      <td>1</td>\n      <td>NaN</td>\n      <td>NaN</td>\n      <td>1</td>\n      <td>5</td>\n      <td>5</td>\n      <td>36</td>\n      <td>...</td>\n      <td>NaN</td>\n      <td>NaN</td>\n      <td>NaN</td>\n      <td>NaN</td>\n      <td>NaN</td>\n      <td>NaN</td>\n      <td>NaN</td>\n      <td>NaN</td>\n      <td>NaN</td>\n      <td>9</td>\n    </tr>\n    <tr>\n      <th>7</th>\n      <td>+</td>\n      <td>Б1.О.04</td>\n      <td>Модели и методы исследования информационных пр...</td>\n      <td>1</td>\n      <td>NaN</td>\n      <td>NaN</td>\n      <td>1</td>\n      <td>5</td>\n      <td>5</td>\n      <td>36</td>\n      <td>...</td>\n      <td>NaN</td>\n      <td>NaN</td>\n      <td>NaN</td>\n      <td>NaN</td>\n      <td>NaN</td>\n      <td>NaN</td>\n      <td>NaN</td>\n      <td>NaN</td>\n      <td>NaN</td>\n      <td>9</td>\n    </tr>\n    <tr>\n      <th>8</th>\n      <td>+</td>\n      <td>Б1.О.05</td>\n      <td>Профессиональная коммуникация на иностранном я...</td>\n      <td>NaN</td>\n      <td>1</td>\n      <td>NaN</td>\n      <td>1</td>\n      <td>5</td>\n      <td>5</td>\n      <td>36</td>\n      <td>...</td>\n      <td>NaN</td>\n      <td>NaN</td>\n      <td>NaN</td>\n      <td>NaN</td>\n      <td>NaN</td>\n      <td>NaN</td>\n      <td>NaN</td>\n      <td>NaN</td>\n      <td>NaN</td>\n      <td>8</td>\n    </tr>\n    <tr>\n      <th>9</th>\n      <td>+</td>\n      <td>Б1.О.06</td>\n      <td>Системная инженерия</td>\n      <td>2</td>\n      <td>1</td>\n      <td>NaN</td>\n      <td>12</td>\n      <td>8</td>\n      <td>8</td>\n      <td>36</td>\n      <td>...</td>\n      <td>NaN</td>\n      <td>NaN</td>\n      <td>NaN</td>\n      <td>NaN</td>\n      <td>NaN</td>\n      <td>NaN</td>\n      <td>NaN</td>\n      <td>NaN</td>\n      <td>NaN</td>\n      <td>9</td>\n    </tr>\n    <tr>\n      <th>10</th>\n      <td>+</td>\n      <td>Б1.О.07</td>\n      <td>Акмеология</td>\n      <td>NaN</td>\n      <td>1</td>\n      <td>NaN</td>\n      <td>1</td>\n      <td>4</td>\n      <td>4</td>\n      <td>36</td>\n      <td>...</td>\n      <td>NaN</td>\n      <td>NaN</td>\n      <td>NaN</td>\n      <td>NaN</td>\n      <td>NaN</td>\n      <td>NaN</td>\n      <td>NaN</td>\n      <td>NaN</td>\n      <td>NaN</td>\n      <td>35</td>\n    </tr>\n    <tr>\n      <th>11</th>\n      <td>+</td>\n      <td>Б1.О.08</td>\n      <td>Социальные и философские проблемы ИТ отрасли</td>\n      <td>NaN</td>\n      <td>2</td>\n      <td>NaN</td>\n      <td>2</td>\n      <td>4</td>\n      <td>4</td>\n      <td>36</td>\n      <td>...</td>\n      <td>NaN</td>\n      <td>NaN</td>\n      <td>NaN</td>\n      <td>NaN</td>\n      <td>NaN</td>\n      <td>NaN</td>\n      <td>NaN</td>\n      <td>NaN</td>\n      <td>NaN</td>\n      <td>9</td>\n    </tr>\n    <tr>\n      <th>12</th>\n      <td>+</td>\n      <td>Б1.О.09</td>\n      <td>Современные технологии программирования</td>\n      <td>2</td>\n      <td>1</td>\n      <td>NaN</td>\n      <td>12</td>\n      <td>8</td>\n      <td>8</td>\n      <td>36</td>\n      <td>...</td>\n      <td>NaN</td>\n      <td>NaN</td>\n      <td>NaN</td>\n      <td>NaN</td>\n      <td>NaN</td>\n      <td>NaN</td>\n      <td>NaN</td>\n      <td>NaN</td>\n      <td>NaN</td>\n      <td>9</td>\n    </tr>\n    <tr>\n      <th>13</th>\n      <td>Часть, формируемая участниками образовательных...</td>\n      <td>NaN</td>\n      <td>NaN</td>\n      <td>NaN</td>\n      <td>NaN</td>\n      <td>NaN</td>\n      <td>NaN</td>\n      <td>38</td>\n      <td>38</td>\n      <td>NaN</td>\n      <td>...</td>\n      <td>NaN</td>\n      <td>NaN</td>\n      <td>NaN</td>\n      <td>NaN</td>\n      <td>NaN</td>\n      <td>NaN</td>\n      <td>NaN</td>\n      <td>NaN</td>\n      <td>NaN</td>\n      <td>NaN</td>\n    </tr>\n    <tr>\n      <th>14</th>\n      <td>+</td>\n      <td>Б1.В.01</td>\n      <td>Мировые информационные ресурсы</td>\n      <td>NaN</td>\n      <td>2</td>\n      <td>2</td>\n      <td>22</td>\n      <td>6</td>\n      <td>6</td>\n      <td>36</td>\n      <td>...</td>\n      <td>NaN</td>\n      <td>NaN</td>\n      <td>NaN</td>\n      <td>NaN</td>\n      <td>NaN</td>\n      <td>NaN</td>\n      <td>NaN</td>\n      <td>NaN</td>\n      <td>NaN</td>\n      <td>9</td>\n    </tr>\n    <tr>\n      <th>15</th>\n      <td>+</td>\n      <td>Б1.В.02</td>\n      <td>Реинжиниринг бизнес-процессов</td>\n      <td>2</td>\n      <td>NaN</td>\n      <td>NaN</td>\n      <td>2</td>\n      <td>6</td>\n      <td>6</td>\n      <td>36</td>\n      <td>...</td>\n      <td>NaN</td>\n      <td>NaN</td>\n      <td>NaN</td>\n      <td>NaN</td>\n      <td>NaN</td>\n      <td>NaN</td>\n      <td>NaN</td>\n      <td>NaN</td>\n      <td>NaN</td>\n      <td>9</td>\n    </tr>\n    <tr>\n      <th>16</th>\n      <td>+</td>\n      <td>Б1.В.03</td>\n      <td>Современные коммуникативные технологии в отрасли</td>\n      <td>NaN</td>\n      <td>1</td>\n      <td>1</td>\n      <td>11</td>\n      <td>6</td>\n      <td>6</td>\n      <td>36</td>\n      <td>...</td>\n      <td>NaN</td>\n      <td>NaN</td>\n      <td>NaN</td>\n      <td>NaN</td>\n      <td>NaN</td>\n      <td>NaN</td>\n      <td>NaN</td>\n      <td>NaN</td>\n      <td>NaN</td>\n      <td>23</td>\n    </tr>\n    <tr>\n      <th>17</th>\n      <td>+</td>\n      <td>Б1.В.04</td>\n      <td>Управление ИТ-проектами</td>\n      <td>NaN</td>\n      <td>NaN</td>\n      <td>2</td>\n      <td>2</td>\n      <td>4</td>\n      <td>4</td>\n      <td>36</td>\n      <td>...</td>\n      <td>NaN</td>\n      <td>NaN</td>\n      <td>NaN</td>\n      <td>NaN</td>\n      <td>NaN</td>\n      <td>NaN</td>\n      <td>NaN</td>\n      <td>NaN</td>\n      <td>NaN</td>\n      <td>9</td>\n    </tr>\n    <tr>\n      <th>18</th>\n      <td>+</td>\n      <td>Б1.В.ДВ.01</td>\n      <td>Дисциплины по выбору Б1.В.ДВ.1</td>\n      <td>1</td>\n      <td>NaN</td>\n      <td>NaN</td>\n      <td>1</td>\n      <td>5</td>\n      <td>5</td>\n      <td>NaN</td>\n      <td>...</td>\n      <td>NaN</td>\n      <td>NaN</td>\n      <td>NaN</td>\n      <td>NaN</td>\n      <td>NaN</td>\n      <td>NaN</td>\n      <td>NaN</td>\n      <td>NaN</td>\n      <td>NaN</td>\n      <td>NaN</td>\n    </tr>\n    <tr>\n      <th>19</th>\n      <td>+</td>\n      <td>Б1.В.ДВ.01.01</td>\n      <td>Инструментальные средства проектирования инфор...</td>\n      <td>1</td>\n      <td>NaN</td>\n      <td>NaN</td>\n      <td>1</td>\n      <td>5</td>\n      <td>5</td>\n      <td>36</td>\n      <td>...</td>\n      <td>NaN</td>\n      <td>NaN</td>\n      <td>NaN</td>\n      <td>NaN</td>\n      <td>NaN</td>\n      <td>NaN</td>\n      <td>NaN</td>\n      <td>NaN</td>\n      <td>NaN</td>\n      <td>9</td>\n    </tr>\n    <tr>\n      <th>20</th>\n      <td>-</td>\n      <td>Б1.В.ДВ.01.02</td>\n      <td>CASE-средства проектирования программного обес...</td>\n      <td>1</td>\n      <td>NaN</td>\n      <td>NaN</td>\n      <td>1</td>\n      <td>5</td>\n      <td>5</td>\n      <td>36</td>\n      <td>...</td>\n      <td>NaN</td>\n      <td>NaN</td>\n      <td>NaN</td>\n      <td>NaN</td>\n      <td>NaN</td>\n      <td>NaN</td>\n      <td>NaN</td>\n      <td>NaN</td>\n      <td>NaN</td>\n      <td>9</td>\n    </tr>\n    <tr>\n      <th>21</th>\n      <td>+</td>\n      <td>Б1.В.ДВ.02</td>\n      <td>Дисциплины по выбору Б1.В.ДВ.2</td>\n      <td>2</td>\n      <td>NaN</td>\n      <td>NaN</td>\n      <td>2</td>\n      <td>4</td>\n      <td>4</td>\n      <td>NaN</td>\n      <td>...</td>\n      <td>NaN</td>\n      <td>NaN</td>\n      <td>NaN</td>\n      <td>NaN</td>\n      <td>NaN</td>\n      <td>NaN</td>\n      <td>NaN</td>\n      <td>NaN</td>\n      <td>NaN</td>\n      <td>NaN</td>\n    </tr>\n    <tr>\n      <th>22</th>\n      <td>+</td>\n      <td>Б1.В.ДВ.02.01</td>\n      <td>Методы и средства поддержки принятия решений</td>\n      <td>2</td>\n      <td>NaN</td>\n      <td>NaN</td>\n      <td>2</td>\n      <td>4</td>\n      <td>4</td>\n      <td>36</td>\n      <td>...</td>\n      <td>NaN</td>\n      <td>NaN</td>\n      <td>NaN</td>\n      <td>NaN</td>\n      <td>NaN</td>\n      <td>NaN</td>\n      <td>NaN</td>\n      <td>NaN</td>\n      <td>NaN</td>\n      <td>9</td>\n    </tr>\n    <tr>\n      <th>23</th>\n      <td>-</td>\n      <td>Б1.В.ДВ.02.02</td>\n      <td>Имитационное моделирование</td>\n      <td>2</td>\n      <td>NaN</td>\n      <td>NaN</td>\n      <td>2</td>\n      <td>4</td>\n      <td>4</td>\n      <td>36</td>\n      <td>...</td>\n      <td>NaN</td>\n      <td>NaN</td>\n      <td>NaN</td>\n      <td>NaN</td>\n      <td>NaN</td>\n      <td>NaN</td>\n      <td>NaN</td>\n      <td>NaN</td>\n      <td>NaN</td>\n      <td>9</td>\n    </tr>\n    <tr>\n      <th>24</th>\n      <td>+</td>\n      <td>Б1.В.ДВ.03</td>\n      <td>Дисциплины по выбору Б1.В.ДВ.3</td>\n      <td>2</td>\n      <td>2</td>\n      <td>NaN</td>\n      <td>22</td>\n      <td>7</td>\n      <td>7</td>\n      <td>NaN</td>\n      <td>...</td>\n      <td>NaN</td>\n      <td>NaN</td>\n      <td>NaN</td>\n      <td>NaN</td>\n      <td>NaN</td>\n      <td>NaN</td>\n      <td>NaN</td>\n      <td>NaN</td>\n      <td>NaN</td>\n      <td>NaN</td>\n    </tr>\n    <tr>\n      <th>25</th>\n      <td>+</td>\n      <td>Б1.В.ДВ.03.01</td>\n      <td>Надежность информационных систем</td>\n      <td>2</td>\n      <td>2</td>\n      <td>NaN</td>\n      <td>22</td>\n      <td>7</td>\n      <td>7</td>\n      <td>36</td>\n      <td>...</td>\n      <td>NaN</td>\n      <td>NaN</td>\n      <td>NaN</td>\n      <td>NaN</td>\n      <td>NaN</td>\n      <td>NaN</td>\n      <td>NaN</td>\n      <td>NaN</td>\n      <td>NaN</td>\n      <td>9</td>\n    </tr>\n    <tr>\n      <th>26</th>\n      <td>-</td>\n      <td>Б1.В.ДВ.03.02</td>\n      <td>Методы оценки информационных систем</td>\n      <td>2</td>\n      <td>2</td>\n      <td>NaN</td>\n      <td>22</td>\n      <td>7</td>\n      <td>7</td>\n      <td>36</td>\n      <td>...</td>\n      <td>NaN</td>\n      <td>NaN</td>\n      <td>NaN</td>\n      <td>NaN</td>\n      <td>NaN</td>\n      <td>NaN</td>\n      <td>NaN</td>\n      <td>NaN</td>\n      <td>NaN</td>\n      <td>9</td>\n    </tr>\n    <tr>\n      <th>27</th>\n      <td>Блок 2.Практика</td>\n      <td>NaN</td>\n      <td>NaN</td>\n      <td>NaN</td>\n      <td>NaN</td>\n      <td>NaN</td>\n      <td>NaN</td>\n      <td>24</td>\n      <td>24</td>\n      <td>NaN</td>\n      <td>...</td>\n      <td>NaN</td>\n      <td>NaN</td>\n      <td>NaN</td>\n      <td>NaN</td>\n      <td>NaN</td>\n      <td>NaN</td>\n      <td>NaN</td>\n      <td>NaN</td>\n      <td>NaN</td>\n      <td>NaN</td>\n    </tr>\n    <tr>\n      <th>28</th>\n      <td>Обязательная часть</td>\n      <td>NaN</td>\n      <td>NaN</td>\n      <td>NaN</td>\n      <td>NaN</td>\n      <td>NaN</td>\n      <td>NaN</td>\n      <td>24</td>\n      <td>24</td>\n      <td>NaN</td>\n      <td>...</td>\n      <td>NaN</td>\n      <td>NaN</td>\n      <td>NaN</td>\n      <td>NaN</td>\n      <td>NaN</td>\n      <td>NaN</td>\n      <td>NaN</td>\n      <td>NaN</td>\n      <td>NaN</td>\n      <td>NaN</td>\n    </tr>\n    <tr>\n      <th>29</th>\n      <td>+</td>\n      <td>Б2.О.01</td>\n      <td>Учебная практика</td>\n      <td>NaN</td>\n      <td>NaN</td>\n      <td>1</td>\n      <td>NaN</td>\n      <td>6</td>\n      <td>6</td>\n      <td>NaN</td>\n      <td>...</td>\n      <td>NaN</td>\n      <td>NaN</td>\n      <td>NaN</td>\n      <td>NaN</td>\n      <td>NaN</td>\n      <td>NaN</td>\n      <td>NaN</td>\n      <td>NaN</td>\n      <td>NaN</td>\n      <td>NaN</td>\n    </tr>\n    <tr>\n      <th>30</th>\n      <td>+</td>\n      <td>Б2.О.01.01(У)</td>\n      <td>Технологическая (проектно-технологическая) пра...</td>\n      <td>NaN</td>\n      <td>NaN</td>\n      <td>1</td>\n      <td>NaN</td>\n      <td>6</td>\n      <td>6</td>\n      <td>36</td>\n      <td>...</td>\n      <td>NaN</td>\n      <td>NaN</td>\n      <td>NaN</td>\n      <td>NaN</td>\n      <td>NaN</td>\n      <td>NaN</td>\n      <td>NaN</td>\n      <td>NaN</td>\n      <td>NaN</td>\n      <td>9</td>\n    </tr>\n    <tr>\n      <th>31</th>\n      <td>+</td>\n      <td>Б2.О.02</td>\n      <td>Производственная практика</td>\n      <td>NaN</td>\n      <td>NaN</td>\n      <td>1123</td>\n      <td>NaN</td>\n      <td>18</td>\n      <td>18</td>\n      <td>NaN</td>\n      <td>...</td>\n      <td>о</td>\n      <td>NaN</td>\n      <td>NaN</td>\n      <td>NaN</td>\n      <td>NaN</td>\n      <td>NaN</td>\n      <td>NaN</td>\n      <td>NaN</td>\n      <td>NaN</td>\n      <td>NaN</td>\n    </tr>\n    <tr>\n      <th>32</th>\n      <td>+</td>\n      <td>Б2.О.02.01(Н)</td>\n      <td>Научно-исследовательская работа</td>\n      <td>NaN</td>\n      <td>NaN</td>\n      <td>112</td>\n      <td>NaN</td>\n      <td>12</td>\n      <td>12</td>\n      <td>36</td>\n      <td>...</td>\n      <td>NaN</td>\n      <td>NaN</td>\n      <td>NaN</td>\n      <td>NaN</td>\n      <td>NaN</td>\n      <td>NaN</td>\n      <td>NaN</td>\n      <td>NaN</td>\n      <td>NaN</td>\n      <td>9</td>\n    </tr>\n    <tr>\n      <th>33</th>\n      <td>+</td>\n      <td>Б2.О.02.02(Пд)</td>\n      <td>Преддипломная практика</td>\n      <td>NaN</td>\n      <td>NaN</td>\n      <td>3</td>\n      <td>NaN</td>\n      <td>6</td>\n      <td>6</td>\n      <td>36</td>\n      <td>...</td>\n      <td>о</td>\n      <td>NaN</td>\n      <td>NaN</td>\n      <td>NaN</td>\n      <td>NaN</td>\n      <td>NaN</td>\n      <td>NaN</td>\n      <td>NaN</td>\n      <td>NaN</td>\n      <td>9</td>\n    </tr>\n    <tr>\n      <th>34</th>\n      <td>Блок 3.Государственная итоговая аттестация</td>\n      <td>NaN</td>\n      <td>NaN</td>\n      <td>NaN</td>\n      <td>NaN</td>\n      <td>NaN</td>\n      <td>NaN</td>\n      <td>9</td>\n      <td>9</td>\n      <td>NaN</td>\n      <td>...</td>\n      <td>NaN</td>\n      <td>NaN</td>\n      <td>NaN</td>\n      <td>NaN</td>\n      <td>NaN</td>\n      <td>NaN</td>\n      <td>NaN</td>\n      <td>NaN</td>\n      <td>NaN</td>\n      <td>NaN</td>\n    </tr>\n    <tr>\n      <th>35</th>\n      <td>+</td>\n      <td>Б3.01(Д)</td>\n      <td>Выполнение и защита выпускной квалификационной...</td>\n      <td>3</td>\n      <td>NaN</td>\n      <td>NaN</td>\n      <td>NaN</td>\n      <td>9</td>\n      <td>9</td>\n      <td>36</td>\n      <td>...</td>\n      <td>э</td>\n      <td>NaN</td>\n      <td>NaN</td>\n      <td>NaN</td>\n      <td>NaN</td>\n      <td>NaN</td>\n      <td>NaN</td>\n      <td>NaN</td>\n      <td>NaN</td>\n      <td>9</td>\n    </tr>\n    <tr>\n      <th>36</th>\n      <td>ФТД.Факультативные дисциплины</td>\n      <td>NaN</td>\n      <td>NaN</td>\n      <td>NaN</td>\n      <td>NaN</td>\n      <td>NaN</td>\n      <td>NaN</td>\n      <td>5</td>\n      <td>5</td>\n      <td>NaN</td>\n      <td>...</td>\n      <td>NaN</td>\n      <td>NaN</td>\n      <td>NaN</td>\n      <td>NaN</td>\n      <td>NaN</td>\n      <td>NaN</td>\n      <td>NaN</td>\n      <td>NaN</td>\n      <td>NaN</td>\n      <td>NaN</td>\n    </tr>\n    <tr>\n      <th>37</th>\n      <td>+</td>\n      <td>ФТД.01</td>\n      <td>Инновационная экономика</td>\n      <td>NaN</td>\n      <td>1</td>\n      <td>NaN</td>\n      <td>NaN</td>\n      <td>3</td>\n      <td>3</td>\n      <td>36</td>\n      <td>...</td>\n      <td>NaN</td>\n      <td>NaN</td>\n      <td>NaN</td>\n      <td>NaN</td>\n      <td>NaN</td>\n      <td>NaN</td>\n      <td>NaN</td>\n      <td>NaN</td>\n      <td>NaN</td>\n      <td>37</td>\n    </tr>\n    <tr>\n      <th>38</th>\n      <td>+</td>\n      <td>ФТД.02</td>\n      <td>Основы технологического предпринимательства</td>\n      <td>NaN</td>\n      <td>2</td>\n      <td>NaN</td>\n      <td>NaN</td>\n      <td>2</td>\n      <td>2</td>\n      <td>36</td>\n      <td>...</td>\n      <td>NaN</td>\n      <td>NaN</td>\n      <td>NaN</td>\n      <td>NaN</td>\n      <td>NaN</td>\n      <td>NaN</td>\n      <td>NaN</td>\n      <td>NaN</td>\n      <td>NaN</td>\n      <td>37</td>\n    </tr>\n  </tbody>\n</table>\n<p>39 rows × 64 columns</p>\n</div>"
     },
     "execution_count": 12,
     "metadata": {},
     "output_type": "execute_result"
    }
   ],
   "source": [
    "df = excel.parse(sheet)\n",
    "df"
   ],
   "metadata": {
    "collapsed": false,
    "ExecuteTime": {
     "end_time": "2023-10-19T11:19:09.357043900Z",
     "start_time": "2023-10-19T11:19:09.074993900Z"
    }
   },
   "id": "b0b4b72ced6e82c2"
  },
  {
   "cell_type": "code",
   "execution_count": 30,
   "outputs": [
    {
     "name": "stdout",
     "output_type": "stream",
     "text": [
      "Прикладная математика 53\n",
      "Методология научных исследований в отрасли 9\n",
      "Информационные системы и технологии в научных исследованиях 9\n",
      "Модели и методы исследования информационных процессов и систем 9\n",
      "Профессиональная коммуникация на иностранном языке 8\n",
      "Системная инженерия 9\n",
      "Акмеология 35\n",
      "Социальные и философские проблемы ИТ отрасли  9\n",
      "Современные технологии программирования 9\n",
      "Мировые информационные ресурсы 9\n",
      "Реинжиниринг бизнес-процессов 9\n",
      "Современные коммуникативные технологии в отрасли 23\n",
      "Управление ИТ-проектами 9\n",
      "Инструментальные средства проектирования информационных систем 9\n",
      "CASE-средства проектирования программного обеспечения 9\n",
      "Методы и средства поддержки принятия решений 9\n",
      "Имитационное моделирование 9\n",
      "Надежность информационных систем 9\n",
      "Методы оценки информационных систем 9\n",
      "Технологическая (проектно-технологическая) практика 9\n",
      "Научно-исследовательская работа 9\n",
      "Преддипломная практика 9\n",
      "Выполнение и защита выпускной квалификационной работы 9\n",
      "Инновационная экономика 37\n",
      "Основы технологического предпринимательства 37\n",
      "[{'Дисциплина': 'Прикладная математика', 'Кафедра': 53}, {'Дисциплина': 'Методология научных исследований в отрасли', 'Кафедра': 9}, {'Дисциплина': 'Информационные системы и технологии в научных исследованиях', 'Кафедра': 9}, {'Дисциплина': 'Модели и методы исследования информационных процессов и систем', 'Кафедра': 9}, {'Дисциплина': 'Профессиональная коммуникация на иностранном языке', 'Кафедра': 8}, {'Дисциплина': 'Системная инженерия', 'Кафедра': 9}, {'Дисциплина': 'Акмеология', 'Кафедра': 35}, {'Дисциплина': 'Социальные и философские проблемы ИТ отрасли ', 'Кафедра': 9}, {'Дисциплина': 'Современные технологии программирования', 'Кафедра': 9}, {'Дисциплина': 'Мировые информационные ресурсы', 'Кафедра': 9}, {'Дисциплина': 'Реинжиниринг бизнес-процессов', 'Кафедра': 9}, {'Дисциплина': 'Современные коммуникативные технологии в отрасли', 'Кафедра': 23}, {'Дисциплина': 'Управление ИТ-проектами', 'Кафедра': 9}, {'Дисциплина': 'Инструментальные средства проектирования информационных систем', 'Кафедра': 9}, {'Дисциплина': 'CASE-средства проектирования программного обеспечения', 'Кафедра': 9}, {'Дисциплина': 'Методы и средства поддержки принятия решений', 'Кафедра': 9}, {'Дисциплина': 'Имитационное моделирование', 'Кафедра': 9}, {'Дисциплина': 'Надежность информационных систем', 'Кафедра': 9}, {'Дисциплина': 'Методы оценки информационных систем', 'Кафедра': 9}, {'Дисциплина': 'Технологическая (проектно-технологическая) практика', 'Кафедра': 9}, {'Дисциплина': 'Научно-исследовательская работа', 'Кафедра': 9}, {'Дисциплина': 'Преддипломная практика', 'Кафедра': 9}, {'Дисциплина': 'Выполнение и защита выпускной квалификационной работы', 'Кафедра': 9}, {'Дисциплина': 'Инновационная экономика', 'Кафедра': 37}, {'Дисциплина': 'Основы технологического предпринимательства', 'Кафедра': 37}]\n"
     ]
    }
   ],
   "source": [
    "subjs = []\n",
    "skip = [2, 0]\n",
    "for i in range(skip[0], len(df['Закрепленная кафедра'])-skip[1]):\n",
    "    subj = df.iloc[i, 2]\n",
    "    kaf = df['Закрепленная кафедра'][i]\n",
    "    if str(subj) == 'nan' or str(kaf) == 'nan':\n",
    "        continue\n",
    "    subjs.append({'Дисциплина': subj, 'Кафедра': int(kaf)})\n",
    "    \n",
    "print(subjs)"
   ],
   "metadata": {
    "collapsed": false,
    "ExecuteTime": {
     "end_time": "2023-10-19T12:53:51.751890600Z",
     "start_time": "2023-10-19T12:53:51.730206700Z"
    }
   },
   "id": "3b03f8cc07aac2"
  },
  {
   "cell_type": "code",
   "execution_count": 31,
   "outputs": [
    {
     "name": "stdout",
     "output_type": "stream",
     "text": [
      "ВИАС\n",
      "МЗИН\n",
      "МИН\n",
      "МПИ\n",
      "ВИАС\n",
      "ВИС\n",
      "ВЗПИ\n",
      "ВОЗПИ\n"
     ]
    }
   ],
   "source": [
    "import re\n",
    "\n",
    "# Названия файлов\n",
    "file_names = [\n",
    "    \"B090302ВИАС\",\n",
    "    \"090402МЗИН\",\n",
    "    \"090402МИН\",\n",
    "    \"090403МПИ\",\n",
    "    \"B090302ВИАС\",\n",
    "    \"B090302ВИС\",\n",
    "    \"B090303ВЗПИ\",\n",
    "    \"B090303ВОЗПИ\"\n",
    "]\n",
    "\n",
    "# Регулярное выражение для поиска групп\n",
    "regex = r'[А-Я]+'\n",
    "\n",
    "for file_name in file_names:\n",
    "    match = re.search(regex, file_name)\n",
    "    if match:\n",
    "        print(match.group())"
   ],
   "metadata": {
    "collapsed": false,
    "ExecuteTime": {
     "end_time": "2023-10-19T16:26:30.716386500Z",
     "start_time": "2023-10-19T16:26:30.705873500Z"
    }
   },
   "id": "ef774c49b29c83e9"
  }
 ],
 "metadata": {
  "kernelspec": {
   "display_name": "Python 3",
   "language": "python",
   "name": "python3"
  },
  "language_info": {
   "codemirror_mode": {
    "name": "ipython",
    "version": 2
   },
   "file_extension": ".py",
   "mimetype": "text/x-python",
   "name": "python",
   "nbconvert_exporter": "python",
   "pygments_lexer": "ipython2",
   "version": "2.7.6"
  }
 },
 "nbformat": 4,
 "nbformat_minor": 5
}
