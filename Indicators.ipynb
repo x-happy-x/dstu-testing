{
 "cells": [
  {
   "cell_type": "markdown",
   "source": [],
   "metadata": {
    "collapsed": false
   }
  },
  {
   "cell_type": "code",
   "execution_count": 1,
   "metadata": {
    "collapsed": true,
    "ExecuteTime": {
     "end_time": "2023-06-15T17:00:42.486420900Z",
     "start_time": "2023-06-15T17:00:42.454279900Z"
    }
   },
   "outputs": [],
   "source": [
    "shorten_disciplines = ['Основы проектной деятельности', 'Иностранный язык']\n",
    "blacklist_disciplines = []\n",
    "other_column = {\n",
    "    'УК': {\n",
    "        '1': 'Системное и критическое мышление',\n",
    "        '2': 'Разработка и реализация проектов',\n",
    "        '3': 'Командная работа и лидерство',\n",
    "        '4': 'Коммуникация',\n",
    "        '5': 'Межкультурное взаимодействие',\n",
    "        '6': 'Самоорганизация и саморазвитие (в т.ч. здоровье сбережение)',\n",
    "        '7': 'Самоорганизация и саморазвитие (в т.ч. здоровье сбережение)',\n",
    "        '8': 'Безопасность жизнедеятельности',\n",
    "        '9': 'Экономическая культура, в том числе финансовая грамотность',\n",
    "        '10': 'Гражданская позиция',\n",
    "    },\n",
    "    'ПК': {\n",
    "        '1': '''ПС 06.035\n",
    "ОТФ: Управление работами по созданию (модификации) и сопровождению информационных ресурсов\n",
    "Трудовые функции:\n",
    "1. Анализ и формализация требований к информационным ресурсам\n",
    "\n",
    "ПС 06.022\n",
    "ОТФ: Концептуальное, функциональное и логическое проектирование систем среднего и крупного масштаба и сложности\n",
    "Трудовые функции:\n",
    "1.Разработка бизнес-требований к системе''',\n",
    "        '2': '''ПС 06.035\n",
    "ОТФ: Управление работами по созданию (модификации) и сопровождению информационных ресурсов\n",
    "Трудовые функции:\n",
    "1. Проектирование информационных ресурсов.\n",
    "\n",
    "ПС 06.022\n",
    "ОТФ: Концептуальное, функциональное и логическое проектирование систем среднего и крупного масштаба и сложности\n",
    "Трудовые функции:\n",
    "1.Разработка концепции системы''',\n",
    "        '3': '''ПС 06.015\n",
    "ОТФ: Выполнение работ и управление работами по созданию (модификации) и сопровождению ИС, автоматизирующих задачи организационного управления и бизнес-процессы\n",
    "Трудовые функции:\n",
    "1.\tРазработка архитектуры ИС\n",
    "2.\tРазработка прототипов ИС\n",
    "3.\tРазработка базы данных ИС\n",
    "4.\tОрганизационное и технологическое обеспечение кодирования на языках программирования\n",
    "5.\tОптимизация работы ИС''',\n",
    "    }\n",
    "}\n",
    "table_text_style = 'TableText'"
   ]
  },
  {
   "cell_type": "code",
   "execution_count": 1,
   "outputs": [],
   "source": [
    "from app.writer.to_docx import *\n",
    "from app.writer.to_excel import *\n",
    "from app.utils import diff_stat, format_sheet\n",
    "import pandas as pd"
   ],
   "metadata": {
    "collapsed": false,
    "ExecuteTime": {
     "end_time": "2023-06-15T21:12:18.468842900Z",
     "start_time": "2023-06-15T21:12:17.445049400Z"
    }
   }
  },
  {
   "cell_type": "code",
   "execution_count": null,
   "outputs": [],
   "source": [
    "excel_to_docx('./source/!пу!', './dest/!пу!2', './template/Индикаторы.docx', json_save='./dest/!пу!2/info.json')"
   ],
   "metadata": {
    "collapsed": false
   }
  },
  {
   "cell_type": "code",
   "execution_count": null,
   "outputs": [],
   "source": [
    "json_to_docx('./dest/!пу!/info.json', 'Z:/Desktop/ИД', './template/Индикаторы.docx')"
   ],
   "metadata": {
    "collapsed": false
   }
  },
  {
   "cell_type": "code",
   "execution_count": 3,
   "outputs": [],
   "source": [
    "data = json_split(\n",
    "    source='./dest/!пу!/info.json',\n",
    "    dest='./dest/Планы',\n",
    "    stat=True\n",
    ")"
   ],
   "metadata": {
    "collapsed": false,
    "ExecuteTime": {
     "end_time": "2023-06-15T17:00:43.385810700Z",
     "start_time": "2023-06-15T17:00:43.283165200Z"
    }
   }
  },
  {
   "cell_type": "code",
   "execution_count": 24,
   "outputs": [],
   "source": [
    "stat_columns = []\n",
    "stat = {}\n",
    "i = 1\n",
    "for group in data:\n",
    "    for year in data[group]:\n",
    "        stat_columns.append(f\"{group} - {year}\")\n",
    "        disp_stat = data[group][year]['stat']['Дисциплины']\n",
    "        for discipline in disp_stat:\n",
    "            if discipline in stat:\n",
    "                stat[discipline].append(disp_stat[discipline])\n",
    "            else:\n",
    "                stat[discipline] = [0] * (i - 1) + [disp_stat[discipline]]\n",
    "        for st in stat:\n",
    "            if len(stat[st]) < i:\n",
    "                stat[st].append(0)\n",
    "\n",
    "        i += 1"
   ],
   "metadata": {
    "collapsed": false,
    "ExecuteTime": {
     "end_time": "2023-06-14T19:15:04.824055100Z",
     "start_time": "2023-06-14T19:15:04.800576800Z"
    }
   }
  },
  {
   "cell_type": "code",
   "execution_count": 25,
   "outputs": [],
   "source": [
    "stat = {k: v for k, v in sorted(stat.items())}"
   ],
   "metadata": {
    "collapsed": false,
    "ExecuteTime": {
     "end_time": "2023-06-14T19:15:06.472083Z",
     "start_time": "2023-06-14T19:15:06.451947800Z"
    }
   }
  },
  {
   "cell_type": "code",
   "execution_count": 26,
   "outputs": [],
   "source": [
    "stat_rows = list(stat.keys())\n",
    "stat_data = stat.values()\n",
    "df_stat = pd.DataFrame(stat_data, index=stat_rows, columns=stat_columns)"
   ],
   "metadata": {
    "collapsed": false,
    "ExecuteTime": {
     "end_time": "2023-06-14T19:15:07.463422300Z",
     "start_time": "2023-06-14T19:15:07.444782400Z"
    }
   }
  },
  {
   "cell_type": "code",
   "execution_count": 33,
   "outputs": [],
   "source": [
    "df_stat.to_excel('./dest/test.xlsx', 'Количество дисциплин')"
   ],
   "metadata": {
    "collapsed": false,
    "ExecuteTime": {
     "end_time": "2023-06-15T11:42:14.126268900Z",
     "start_time": "2023-06-15T11:42:14.039779300Z"
    }
   }
  },
  {
   "cell_type": "markdown",
   "source": [],
   "metadata": {
    "collapsed": false
   }
  },
  {
   "cell_type": "code",
   "execution_count": 43,
   "outputs": [
    {
     "data": {
      "text/plain": "                0          1   \n0     Компетенции       None  \\\n1       Изменение  Индикатор   \n2               *       ПК-1   \n3            None       None   \n4      Индикаторы       None   \n5       Изменение  Индикатор   \n6               *    ОПК-8.1   \n7               *     ПК-1.1   \n8               *     ПК-2.1   \n9            None       None   \n10     Дисциплины       None   \n11      Изменение  Индикатор   \n12  Нет изменений       None   \n\n                                                    2   \n0                                                None  \\\n1                                               Новое   \n2   Способен использовать и развивать методы научн...   \n3                                                None   \n4                                                None   \n5                                               Новое   \n6   Применяет знания и методы командообразования и...   \n7   Применяет знания статистического анализа и про...   \n8   Применяет знания, методы оценки эффективности ...   \n9                                                None   \n10                                               None   \n11                                         Дисциплина   \n12                                               None   \n\n                                                    3  \n0                                                None  \n1                                              Старое  \n2   Способен использовать и развивать методы научн...  \n3                                                None  \n4                                                None  \n5                                              Старое  \n6   Применяет знания и методы командообразования и...  \n7   Применяет знания статистического анализа и про...  \n8   Применяет знания, методы оценки эффективности ...  \n9                                                None  \n10                                               None  \n11                                               None  \n12                                               None  ",
      "text/html": "<div>\n<style scoped>\n    .dataframe tbody tr th:only-of-type {\n        vertical-align: middle;\n    }\n\n    .dataframe tbody tr th {\n        vertical-align: top;\n    }\n\n    .dataframe thead th {\n        text-align: right;\n    }\n</style>\n<table border=\"1\" class=\"dataframe\">\n  <thead>\n    <tr style=\"text-align: right;\">\n      <th></th>\n      <th>0</th>\n      <th>1</th>\n      <th>2</th>\n      <th>3</th>\n    </tr>\n  </thead>\n  <tbody>\n    <tr>\n      <th>0</th>\n      <td>Компетенции</td>\n      <td>None</td>\n      <td>None</td>\n      <td>None</td>\n    </tr>\n    <tr>\n      <th>1</th>\n      <td>Изменение</td>\n      <td>Индикатор</td>\n      <td>Новое</td>\n      <td>Старое</td>\n    </tr>\n    <tr>\n      <th>2</th>\n      <td>*</td>\n      <td>ПК-1</td>\n      <td>Способен использовать и развивать методы научн...</td>\n      <td>Способен использовать и развивать методы научн...</td>\n    </tr>\n    <tr>\n      <th>3</th>\n      <td>None</td>\n      <td>None</td>\n      <td>None</td>\n      <td>None</td>\n    </tr>\n    <tr>\n      <th>4</th>\n      <td>Индикаторы</td>\n      <td>None</td>\n      <td>None</td>\n      <td>None</td>\n    </tr>\n    <tr>\n      <th>5</th>\n      <td>Изменение</td>\n      <td>Индикатор</td>\n      <td>Новое</td>\n      <td>Старое</td>\n    </tr>\n    <tr>\n      <th>6</th>\n      <td>*</td>\n      <td>ОПК-8.1</td>\n      <td>Применяет знания и методы командообразования и...</td>\n      <td>Применяет знания и методы командообразования и...</td>\n    </tr>\n    <tr>\n      <th>7</th>\n      <td>*</td>\n      <td>ПК-1.1</td>\n      <td>Применяет знания статистического анализа и про...</td>\n      <td>Применяет знания статистического анализа и про...</td>\n    </tr>\n    <tr>\n      <th>8</th>\n      <td>*</td>\n      <td>ПК-2.1</td>\n      <td>Применяет знания, методы оценки эффективности ...</td>\n      <td>Применяет знания, методы оценки эффективности ...</td>\n    </tr>\n    <tr>\n      <th>9</th>\n      <td>None</td>\n      <td>None</td>\n      <td>None</td>\n      <td>None</td>\n    </tr>\n    <tr>\n      <th>10</th>\n      <td>Дисциплины</td>\n      <td>None</td>\n      <td>None</td>\n      <td>None</td>\n    </tr>\n    <tr>\n      <th>11</th>\n      <td>Изменение</td>\n      <td>Индикатор</td>\n      <td>Дисциплина</td>\n      <td>None</td>\n    </tr>\n    <tr>\n      <th>12</th>\n      <td>Нет изменений</td>\n      <td>None</td>\n      <td>None</td>\n      <td>None</td>\n    </tr>\n  </tbody>\n</table>\n</div>"
     },
     "execution_count": 43,
     "metadata": {},
     "output_type": "execute_result"
    }
   ],
   "source": [
    "stats = []\n",
    "for group in data:\n",
    "    for year in data[group]:\n",
    "        for year2 in data[group]:\n",
    "            stat = diff_stat(data[group][year], data[group][year2])\n",
    "            if stat is None:\n",
    "                continue\n",
    "            stats.append([f\"{group} ({year} - {year2})\", stat])\n",
    "create_excel(stats, './dest/test.xlsx')"
   ],
   "metadata": {
    "collapsed": false,
    "ExecuteTime": {
     "end_time": "2023-06-15T20:28:52.217087300Z",
     "start_time": "2023-06-15T20:28:51.908077100Z"
    }
   }
  },
  {
   "cell_type": "markdown",
   "source": [
    "Форматирование файла"
   ],
   "metadata": {
    "collapsed": false
   }
  },
  {
   "cell_type": "code",
   "execution_count": 1,
   "outputs": [],
   "source": [
    "from app.utils import format_sheet\n",
    "from openpyxl import load_workbook\n",
    "from openpyxl.styles import Font, Alignment\n",
    "wb = load_workbook('./dest/test.xlsx')\n",
    "for sheet in wb.sheetnames:\n",
    "    format_sheet(wb[sheet])\n",
    "wb.save('./dest/test.xlsx')"
   ],
   "metadata": {
    "collapsed": false,
    "ExecuteTime": {
     "end_time": "2023-06-15T21:20:18.799840300Z",
     "start_time": "2023-06-15T21:20:17.431200900Z"
    }
   }
  },
  {
   "cell_type": "code",
   "execution_count": null,
   "outputs": [],
   "source": [],
   "metadata": {
    "collapsed": false
   }
  }
 ],
 "metadata": {
  "kernelspec": {
   "display_name": "Python 3",
   "language": "python",
   "name": "python3"
  },
  "language_info": {
   "codemirror_mode": {
    "name": "ipython",
    "version": 2
   },
   "file_extension": ".py",
   "mimetype": "text/x-python",
   "name": "python",
   "nbconvert_exporter": "python",
   "pygments_lexer": "ipython2",
   "version": "2.7.6"
  }
 },
 "nbformat": 4,
 "nbformat_minor": 0
}
